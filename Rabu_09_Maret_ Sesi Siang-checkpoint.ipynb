{
 "cells": [
  {
   "cell_type": "markdown",
   "id": "2185ce23",
   "metadata": {},
   "source": [
    "# **Tugas Koding**"
   ]
  },
  {
   "cell_type": "markdown",
   "id": "21ee7b4d",
   "metadata": {},
   "source": [
    "# **NUMPY**\n",
    "NumPy adalah kependekan dari \"Python Numerik\". Ini digunakan untuk bekerja dengan array. Dalam Python kami memiliki daftar yang melayani tujuan array, tetapi mereka lambat untuk diproses. NumPy bertujuan untuk menyediakan objek array yang dua kali lebih cepat dari daftar Python tradisional."
   ]
  },
  {
   "cell_type": "markdown",
   "id": "7f3b539d",
   "metadata": {},
   "source": [
    "# **Scipy**\n",
    "SciPy adalah pustaka Python sumber terbuka dan gratis yang digunakan untuk komputasi ilmiah dan komputasi teknis. SciPy berisi modul untuk optimasi, aljabar linier, integrasi, interpolasi, fungsi khusus, FFT, pemrosesan sinyal dan gambar, pemecah ODE dan tugas lain yang umum dalam sains dan teknik."
   ]
  },
  {
   "cell_type": "code",
   "execution_count": 1,
   "id": "de6d5996",
   "metadata": {},
   "outputs": [
    {
     "name": "stdout",
     "output_type": "stream",
     "text": [
      "Requirement already satisfied: numpy in c:\\programdata\\anaconda3\\lib\\site-packages (1.20.3)\n",
      "Requirement already satisfied: scipy in c:\\programdata\\anaconda3\\lib\\site-packages (1.7.1)\n",
      "Requirement already satisfied: numpy<1.23.0,>=1.16.5 in c:\\programdata\\anaconda3\\lib\\site-packages (from scipy) (1.20.3)\n"
     ]
    }
   ],
   "source": [
    "import sys\n",
    "\n",
    "#jalankan sel ini untuk menginstal numpy\n",
    "!{sys.executable} -m pip install numpy\n",
    "\n",
    "#jalankan sel ini untuk menginstal scipy\n",
    "!{sys.executable} -m pip install scipy"
   ]
  },
  {
   "cell_type": "code",
   "execution_count": 2,
   "id": "2b484f0d",
   "metadata": {},
   "outputs": [],
   "source": [
    "import  sys\n",
    "import scipy"
   ]
  },
  {
   "cell_type": "markdown",
   "id": "7cbd7890",
   "metadata": {},
   "source": [
    "# Objevtive\n",
    "***\n",
    "- **Measures of Central Tendency**\n",
    "     - Mean\n",
    "     - Median\n",
    "     - Mode\n",
    "\n",
    "- **Measures Of Spread**\n",
    "\n",
    "     - Range\n",
    "     - Quartiles and Interquartile range\n",
    "     - Percentile\n",
    "     - Variance\n",
    "     - Standard deviation\n",
    "\n",
    "\n",
    "- **Correlation v/s Causation**\n",
    "- **Kurtosis**\n",
    "- **Skewness**\n",
    "- **Eigen Vectors**\n"
   ]
  },
  {
   "cell_type": "code",
   "execution_count": 8,
   "id": "8e859a08",
   "metadata": {},
   "outputs": [],
   "source": [
    "import numpy as np\n",
    "#Membuat Array Dasar di numpy\n",
    "X=np.array([1,2,3,5,5,2,2,2])"
   ]
  },
  {
   "cell_type": "markdown",
   "id": "b3e17b55",
   "metadata": {},
   "source": [
    "## Ukuran Tendensi Sentral\n",
    "***\n",
    "\n",
    "Ukuran tendensi sentral adalah metode yang umum digunakan untuk mengidentifikasi pusat kumpulan data.\n",
    "Digunakan untuk menggambarkan kumpulan data dengan mengidentifikasi posisi sentral dalam kumpulan data tersebut.\n",
    "\n",
    "Rata-rata, Median dan Modus"
   ]
  },
  {
   "cell_type": "markdown",
   "id": "0ca27b3b",
   "metadata": {},
   "source": [
    "### Mean\n",
    "***\n",
    "Ukuran tendensi sentral yang paling populer. Hal ini juga disebut sebagai nilai rata-rata dalam kumpulan data. ​Didefinisikan sebagai jumlah semua nilai dalam kumpulan data, dibagi dengan jumlah total nilai dalam kumpulan data.​\n",
    "\n",
    "$ \\bar X= \\frac{\\sum X}{n}$"
   ]
  },
  {
   "cell_type": "code",
   "execution_count": 9,
   "id": "9f6aa93c",
   "metadata": {},
   "outputs": [
    {
     "name": "stdout",
     "output_type": "stream",
     "text": [
      "Data [1 2 3 5 5 2 2 2]\n",
      "Mean: 2.75\n"
     ]
    }
   ],
   "source": [
    "#Mean menggunakan numpy\n",
    "print(\"Data\",X)\n",
    "print(\"Mean:\",np.mean(X))"
   ]
  },
  {
   "cell_type": "markdown",
   "id": "2edeb6db",
   "metadata": {},
   "source": [
    "### MEDIAN\n",
    "***\n",
    "Median is the middle value of an ordered data set. If there are a total of n values. Then median is -\n",
    "\n",
    "1. $ \\frac {(n+1)}{2} $th term if n is odd.\n",
    "\n",
    "\n",
    "2. Average of ($\\frac{n}{2}$) and ($\\frac{n}{2}+1$)th terms, if n is even."
   ]
  },
  {
   "cell_type": "code",
   "execution_count": 10,
   "id": "2b2a8dd7",
   "metadata": {},
   "outputs": [
    {
     "name": "stdout",
     "output_type": "stream",
     "text": [
      "Data [1 2 3 5 5 2 2 2]\n",
      "Median:  2.0\n"
     ]
    }
   ],
   "source": [
    "## Finding Median of X\n",
    "print(\"Data\",X)\n",
    "print(\"Median: \", np.median(X))"
   ]
  },
  {
   "cell_type": "markdown",
   "id": "cf523951",
   "metadata": {},
   "source": [
    "### MODE\n",
    "***\n",
    "\n",
    "1. Most frequently occurring value in the data set, i.e. value of the random sample that occurs with the greatest frequency.\n",
    "2. It is applicable to all levels of data measurement, i.e., nominal, ordinal, interval and ratio scales."
   ]
  },
  {
   "cell_type": "code",
   "execution_count": 12,
   "id": "f808a0f9",
   "metadata": {},
   "outputs": [
    {
     "data": {
      "text/plain": [
       "(array([1, 2, 3, 5]), array([1, 4, 1, 2], dtype=int64))"
      ]
     },
     "execution_count": 12,
     "metadata": {},
     "output_type": "execute_result"
    }
   ],
   "source": [
    "np.unique(X, return_counts=True)"
   ]
  },
  {
   "cell_type": "code",
   "execution_count": 13,
   "id": "09d918f8",
   "metadata": {},
   "outputs": [
    {
     "name": "stdout",
     "output_type": "stream",
     "text": [
      "Data [1 2 3 5 5 2 2 2]\n"
     ]
    },
    {
     "data": {
      "text/plain": [
       "(array([1, 2, 3, 5]), array([1, 4, 1, 2], dtype=int64))"
      ]
     },
     "execution_count": 13,
     "metadata": {},
     "output_type": "execute_result"
    }
   ],
   "source": [
    "#Menemukan Mode menggunakan numpy\n",
    "print(\"Data\",X)\n",
    "val, count = np.unique(X, return_counts=True)\n",
    "val, count"
   ]
  },
  {
   "cell_type": "code",
   "execution_count": 14,
   "id": "43d88308",
   "metadata": {},
   "outputs": [
    {
     "data": {
      "text/plain": [
       "array([1, 4, 1, 2], dtype=int64)"
      ]
     },
     "execution_count": 14,
     "metadata": {},
     "output_type": "execute_result"
    }
   ],
   "source": [
    "count"
   ]
  },
  {
   "cell_type": "code",
   "execution_count": 15,
   "id": "994d7f0a",
   "metadata": {},
   "outputs": [
    {
     "name": "stdout",
     "output_type": "stream",
     "text": [
      "Index: 1\n",
      "Mode numpy: 2\n"
     ]
    }
   ],
   "source": [
    "index = np.argmax(count)\n",
    "print(\"Index:\",index)\n",
    "print(\"Mode numpy:\",val[index])"
   ]
  },
  {
   "cell_type": "code",
   "execution_count": 17,
   "id": "ca371028",
   "metadata": {},
   "outputs": [
    {
     "name": "stdout",
     "output_type": "stream",
     "text": [
      "Mode scipy: ModeResult(mode=array([2]), count=array([4]))\n"
     ]
    }
   ],
   "source": [
    "#Finding mode using scipy\n",
    "from scipy import stats\n",
    "print(\"Mode scipy:\",stats.mode(X))\n",
    "modus=stats.mode(X)"
   ]
  },
  {
   "cell_type": "code",
   "execution_count": 18,
   "id": "758751d6",
   "metadata": {},
   "outputs": [
    {
     "data": {
      "text/plain": [
       "ModeResult(mode=array([2]), count=array([4]))"
      ]
     },
     "execution_count": 18,
     "metadata": {},
     "output_type": "execute_result"
    }
   ],
   "source": [
    "modus"
   ]
  },
  {
   "cell_type": "markdown",
   "id": "da325a82",
   "metadata": {},
   "source": [
    "## Measures of Spread\n",
    "***\n",
    "\n",
    "Ukuran bagaimana data tersebar atau tersebar di sekitar mean, yaitu rata-rata. Ini digunakan dalam data kuantitatif, karena variabel dapat diatur dalam urutan logis, dengan nilai rendah dan tinggi.\n",
    "\n",
    "Spread can be measured in-\n",
    "1.\tRange \n",
    "2.\tQuartiles and Interquartile range \n",
    "3.\tPercentile\n",
    "4.\tVariance \n",
    "5.\tStandard deviation \n"
   ]
  },
  {
   "cell_type": "markdown",
   "id": "e69e1c10",
   "metadata": {},
   "source": [
    "### RANGE\n",
    "***\n",
    "1. Ini adalah ukuran variabilitas yang paling sederhana. \n",
    "2. Jarak antara nilai terkecil dan nilai terbesar dalam sebuah dataset.\n",
    "\n",
    "$ Range= \\max(X)-\\min(X)$"
   ]
  },
  {
   "cell_type": "code",
   "execution_count": 19,
   "id": "1223bbde",
   "metadata": {},
   "outputs": [
    {
     "name": "stdout",
     "output_type": "stream",
     "text": [
      "Data [1 2 3 5 5 2 2 2]\n",
      "Range 4\n"
     ]
    }
   ],
   "source": [
    "#Menghitung Rentang\n",
    "print(\"Data\",X)\n",
    "print(\"Range\",X.max()-X.min())"
   ]
  },
  {
   "cell_type": "markdown",
   "id": "c00609a7",
   "metadata": {},
   "source": [
    "<br><br><br><br><br><br>\n",
    "### QUARTILES AND IQR(Interquartile Range)\n",
    "***\n",
    "\n",
    "1. Q1 is the \"middle\" value in the first half of the rank-ordered data set.\n",
    "2. Q2 is the median value in the set.\n",
    "3. Q3 is the \"middle\" value in the second half of the rank-ordered data set.\n",
    "4. The interquartile range is calculated as: Upper Quartile – Lower Quartile."
   ]
  },
  {
   "cell_type": "code",
   "execution_count": 20,
   "id": "e3080942",
   "metadata": {},
   "outputs": [
    {
     "name": "stdout",
     "output_type": "stream",
     "text": [
      "Data [1 4 5 6 7 8 9]\n",
      "\n",
      "Quartile 1: 4.5\n",
      "\n",
      "Quartile 2: 6.0\n",
      "\n",
      "Quartile 3: 7.5\n",
      "\n",
      "Interquartile Range 3.0\n"
     ]
    }
   ],
   "source": [
    "#Defining Data\n",
    "data1=np.array([1,4,5,6,7,8,9])\n",
    "print(\"Data\",data1)\n",
    "\n",
    "#First quartile (Q1)\n",
    "Q1 = np.quantile(data1, .25, interpolation='midpoint')\n",
    "print(\"\\nQuartile 1:\",Q1)\n",
    "\n",
    "#Second quartile (Q2)\n",
    "Q2 = np.quantile(data1, .50, interpolation='midpoint')\n",
    "print(\"\\nQuartile 2:\",Q2)\n",
    "\n",
    "\n",
    "#Third quartile (Q3)\n",
    "Q3 = np.quantile(data1, .75, interpolation='midpoint')\n",
    "print(\"\\nQuartile 3:\",Q3)\n",
    "\n",
    "#Interquartile range (IQR)\n",
    "IQR=Q3-Q1\n",
    "print(\"\\nInterquartile Range\",IQR)"
   ]
  },
  {
   "cell_type": "markdown",
   "id": "edb38554",
   "metadata": {},
   "source": [
    "<br><br><br><br><br><br>\n",
    "### PERCENTILES\n",
    "***\n",
    "\n",
    "Persentil biasanya menunjukkan bahwa persentase tertentu berada di bawah persentil itu. Misalnya, jika Anda mendapat skor di persentil ke-25, maka 25% peserta tes berada di bawah skor Anda. \"25\" disebut peringkat persentil."
   ]
  },
  {
   "cell_type": "code",
   "execution_count": 21,
   "id": "1581511f",
   "metadata": {},
   "outputs": [
    {
     "name": "stdout",
     "output_type": "stream",
     "text": [
      "Data [1 4 5 6 7 8 9]\n",
      "20th Percentile: 4.2\n"
     ]
    }
   ],
   "source": [
    "print(\"Data\",data1)\n",
    "percentile_20=np.percentile(data1,20)\n",
    "print(\"20th Percentile:\",round(percentile_20,2))"
   ]
  },
  {
   "cell_type": "markdown",
   "id": "8591ec5d",
   "metadata": {},
   "source": [
    "<br><br><br>\n",
    "### VARIANCE AND STANDARD DEVIATION\n",
    "***\n",
    "Varians adalah ukuran seberapa menyebar set data. Rumus varian adalah-\n",
    "\n",
    "$\\sigma^2 = \\frac{\\sum (X_{i}-\\bar X)^2}{n-1}$\n",
    "\n",
    "Standar Deviasi adalah akar kuadrat dari varians. Dilambangkan dengan huruf Yunani sigma $\\sigma$."
   ]
  },
  {
   "cell_type": "code",
   "execution_count": 22,
   "id": "9d1034db",
   "metadata": {},
   "outputs": [
    {
     "name": "stdout",
     "output_type": "stream",
     "text": [
      "Data [1 4 5 6 7 8 9]\n",
      "Varaince: 7.238095238095238\n",
      "Standard Deviation: 2.4907993963089563\n",
      "Standard Deviation: 2.690370836538197\n"
     ]
    }
   ],
   "source": [
    "import numpy as np\n",
    "data1=np.array([1,4,5,6,7,8,9])\n",
    "print(\"Data\",data1)\n",
    "\n",
    "'''\n",
    "    \"Delta Degrees of Freedom\": the divisor used in the calculation is\n",
    "    ``N - ddof``, where ``N`` represents the number of elements. By\n",
    "    default `ddof` is zero.\n",
    "'''\n",
    "print(\"Varaince:\",np.var(data1,ddof=1))\n",
    "print(\"Standard Deviation:\",np.std(data1,ddof=0))#populasi\n",
    "print(\"Standard Deviation:\",np.std(data1,ddof=1))#sampel"
   ]
  },
  {
   "cell_type": "code",
   "execution_count": 25,
   "id": "a99dbbb8",
   "metadata": {},
   "outputs": [
    {
     "name": "stdout",
     "output_type": "stream",
     "text": [
      "Nilai Mean E : 46.0\n",
      "Nilai Range E : 68\n",
      "Nilai Varians E : 303.2\n",
      "Nilai Standart Deviasi E : 17.412639087743134\n",
      "Nilai Standart Deviasi E : 18.354533197248273\n"
     ]
    }
   ],
   "source": [
    "import numpy as np\n",
    "import statistics\n",
    "\n",
    "E=[12,34,54,56,54,80,42,56,32,40]\n",
    "F=[50,10,80,25,52,60,45,30,28,60]\n",
    "\n",
    "#mean\n",
    "print(\"Nilai Mean E :\", np.mean(E))\n",
    "\n",
    "#Range\n",
    "print(\"Nilai Range E :\", np.max(E)-np.min(E))\n",
    "\n",
    "#Varians\n",
    "print(\"Nilai Varians E :\", np.var(E))\n",
    "\n",
    "#Standart Deviasi\n",
    "print(\"Nilai Standart Deviasi E :\", np.std(E))# std populasi\n",
    "print(\"Nilai Standart Deviasi E :\", statistics.stdev(E))#std sampel, bisa pakai pst.dev untuk populasi\n"
   ]
  },
  {
   "cell_type": "markdown",
   "id": "d0dd5599",
   "metadata": {},
   "source": [
    "<br><br><br><br><br><br>\n",
    "## COVARIANCE AND CORRELATION\n",
    "***"
   ]
  },
  {
   "cell_type": "markdown",
   "id": "ecc6f9b8",
   "metadata": {},
   "source": [
    "### KOVARIANSI\n",
    "1. Kovarians adalah teknik statistik yang digunakan untuk menentukan hubungan antara pergerakan dua variabel acak. Singkatnya, berapa banyak dua variabel acak berubah bersama-sama.\n",
    "\n",
    "2. Memberikan ukuran kekuatan korelasi antara dua atau lebih set variabel acak.\n",
    "3. Contoh: Misalkan E(x) adalah nilai harapan dari suatu variabel x, dan E(y) adalah nilai harapan dari variabel y, maka kovarians antara x dan y diberikan oleh:\n",
    "\n",
    "$cov(x, y) = E[xy] − E[x] E[y]$\n",
    "\n",
    "- Jika COV(x,y) = 0 maka variabel tidak berkorelasi\n",
    "- Jika COV(x,y) > 0 maka variabel berkorelasi positif\n",
    "- Jika COV(x,y) < 0 maka variabel berkorelasi negatif"
   ]
  },
  {
   "cell_type": "code",
   "execution_count": 32,
   "id": "c5c820f6",
   "metadata": {},
   "outputs": [
    {
     "name": "stdout",
     "output_type": "stream",
     "text": [
      "[3 4 5 6 7 8 9 1 3]\n",
      "[5 6 7 8 3 5 1 3 4]\n",
      "\n",
      "Covariance -0.9583333333333334\n"
     ]
    }
   ],
   "source": [
    "A=np.array([3,4,5,6,7,8,9,1,3])\n",
    "print(A)\n",
    "B=np.array([5,6,7,8,3,5,1,3,4])\n",
    "print(B)\n",
    "\n",
    "print(\"\\nCovariance\",np.cov(A,B)[0,1])"
   ]
  },
  {
   "cell_type": "markdown",
   "id": "547ae9aa",
   "metadata": {},
   "source": [
    "<br><br><br><br><br><br>\n",
    "### CORRELATION\n",
    "***\n",
    "\n",
    "1. It is the measure of the strength of the relation between two variables. How strongly two variables are connected is defined as the correlation. \n",
    "\n",
    "2. It depends upon two variables, change in one variable effect a change in second variable.\n",
    "\n",
    "3. Its value lies in the range of -1 and +1. r is called the Pearson's correlation coefficient.\n",
    "\n",
    "4. Is related to covariance by the given formula: \n",
    "\n",
    "$r= cov(x,y)/\\sigma_x \\sigma_y$\n",
    "\n",
    "- A correlation coefficient greater than zero indicates a positive relationship while a value less than zero signifies a negative relationship.\n",
    "- A value of zero indicates no relationship between the two variables being compared."
   ]
  },
  {
   "cell_type": "code",
   "execution_count": 33,
   "id": "60d48402",
   "metadata": {},
   "outputs": [
    {
     "name": "stdout",
     "output_type": "stream",
     "text": [
      "[[ 1.        -0.1678698]\n",
      " [-0.1678698  1.       ]]\n"
     ]
    }
   ],
   "source": [
    "# Return a correlation coefficient matrix\n",
    "print(np.corrcoef(A,B))"
   ]
  },
  {
   "cell_type": "markdown",
   "id": "95ae512f",
   "metadata": {},
   "source": [
    "### KURTOSIS\n",
    "***\n",
    "\n",
    "1. Measure of how tall and sharp the central peak is, relative to a standard bell curve.\n",
    "2. Also called as the measure of tailedness of a data distribution."
   ]
  },
  {
   "cell_type": "code",
   "execution_count": 34,
   "id": "de5fabb4",
   "metadata": {},
   "outputs": [
    {
     "name": "stdout",
     "output_type": "stream",
     "text": [
      "Kurtosis -1.2167832167832182\n"
     ]
    }
   ],
   "source": [
    "data2=np.linspace(10,8,12)\n",
    "print(\"Kurtosis\",stats.kurtosis(data2))"
   ]
  },
  {
   "cell_type": "markdown",
   "id": "69af72b1",
   "metadata": {},
   "source": [
    "### SKEWNESS\n",
    "***\n",
    "Jumlah dan arah kemiringan dalam distribusi data, yaitu penyimpangan dari simetri horizontal. Berikut ini adalah contoh menemukan skewness."
   ]
  },
  {
   "cell_type": "code",
   "execution_count": 35,
   "id": "3f4cf4e0",
   "metadata": {},
   "outputs": [
    {
     "data": {
      "text/html": [
       "<script>\n",
       "code_show=true; \n",
       "function code_toggle() {\n",
       "    if (code_show){\n",
       "        $('div.cell.code_cell.rendered.selected div.input').hide();\n",
       "    } else {\n",
       "        $('div.cell.code_cell.rendered.selected div.input').show();\n",
       "    }\n",
       "    code_show = !code_show\n",
       "} \n",
       "$( document ).ready(code_toggle);\n",
       "</script>\n",
       "To show/hide this cell's raw code input, click <a href=\"javascript:code_toggle()\">here</a>."
      ],
      "text/plain": [
       "<IPython.core.display.HTML object>"
      ]
     },
     "metadata": {},
     "output_type": "display_data"
    },
    {
     "name": "stderr",
     "output_type": "stream",
     "text": [
      "Matplotlib is building the font cache; this may take a moment.\n"
     ]
    },
    {
     "data": {
      "image/png": "[encoded data removed]",
      "text/plain": [
       "<Figure size 432x288 with 1 Axes>"
      ]
     },
     "metadata": {
      "needs_background": "light"
     },
     "output_type": "display_data"
    }
   ],
   "source": [
    "from IPython.display import HTML\n",
    "from IPython.display import display\n",
    "\n",
    "# Taken from https://stackoverflow.com/questions/31517194/how-to-hide-one-specific-cell-input-or-output-in-ipython-notebook\n",
    "tag = HTML('''<script>\n",
    "code_show=true; \n",
    "function code_toggle() {\n",
    "    if (code_show){\n",
    "        $('div.cell.code_cell.rendered.selected div.input').hide();\n",
    "    } else {\n",
    "        $('div.cell.code_cell.rendered.selected div.input').show();\n",
    "    }\n",
    "    code_show = !code_show\n",
    "} \n",
    "$( document ).ready(code_toggle);\n",
    "</script>\n",
    "To show/hide this cell's raw code input, click <a href=\"javascript:code_toggle()\">here</a>.''')\n",
    "display(tag)\n",
    "\n",
    "\n",
    "\n",
    "from scipy.stats import skewnorm\n",
    "import matplotlib.pyplot as plt\n",
    "\n",
    "numValues = 10000\n",
    "maxValue = 100\n",
    "skewness = -5   #Negative values are left skewed, positive values are right skewed.\n",
    "\n",
    "random = skewnorm.rvs(a = skewness,loc=maxValue, size=numValues)  #Skewnorm function\n",
    "\n",
    "random = random - min(random)      #Shift the set so the minimum value is equal to zero.\n",
    "random = random / max(random)      #Standadize all the vlues between 0 and 1. \n",
    "random = random * maxValue         #Multiply the standardized values by the maximum value.\n",
    "\n",
    "#Plot histogram to check skewness\n",
    "plt.hist(random,30,density=True, color = 'red', alpha=0.1)\n",
    "plt.show()\n"
   ]
  },
  {
   "cell_type": "code",
   "execution_count": 36,
   "id": "e49c29c1",
   "metadata": {},
   "outputs": [
    {
     "name": "stdout",
     "output_type": "stream",
     "text": [
      "Skewness -3.741837000492942e-17\n"
     ]
    }
   ],
   "source": [
    "print(\"Skewness\",stats.skew(data2))"
   ]
  },
  {
   "cell_type": "markdown",
   "id": "07aa9b09",
   "metadata": {},
   "source": [
    "<br><br><br><br><br><br>\n",
    "### Eigen Vector\n",
    "***\n",
    "\n",
    "LetA be an nXn matrix (SquareMatrix).\n",
    "\n",
    "1. An eigen vector of A is a non zero vector v in Rn such that Av=λv,for some scalar λ.\n",
    "2. An eigenvalue of A is a scalar λ such that the equation Av=λv has a non trivial solution.\n",
    "\n",
    "If Av=λv for v not equal to 0,we say that λ is the eigenvalue for v,and that v is aneigenvector for λ.\n",
    "\n",
    "The German prefix “eigen” roughly translates to “self” or “own”. An eigenvector ofAis a vector that is taken to a multiple of itself by the matrix transformationT(x)=Ax,which perhaps explains the terminology. On the other hand, “eigen” is often translated as “characteristic”; we may think of an eigenvector as describing an intrinsic, or characteristic, property ofA.\n",
    "\n",
    "\n",
    "Note-Eigenvalues and eigenvectors are only for square matrices.\n"
   ]
  },
  {
   "cell_type": "code",
   "execution_count": 37,
   "id": "11a14903",
   "metadata": {},
   "outputs": [
    {
     "data": {
      "text/plain": [
       "matrix([[ 8,  4,  6],\n",
       "        [ 2,  6,  2],\n",
       "        [ 8, 10, 12]])"
      ]
     },
     "execution_count": 37,
     "metadata": {},
     "output_type": "execute_result"
    }
   ],
   "source": [
    "import numpy as np\n",
    "x = np.matrix([[8,4,6],[2,6,2],[8,10,12]])\n",
    "x\n"
   ]
  },
  {
   "cell_type": "code",
   "execution_count": 38,
   "id": "9777b433",
   "metadata": {},
   "outputs": [
    {
     "data": {
      "text/plain": [
       "array([[1., 0., 0.],\n",
       "       [0., 1., 0.],\n",
       "       [0., 0., 1.]])"
      ]
     },
     "execution_count": 38,
     "metadata": {},
     "output_type": "execute_result"
    }
   ],
   "source": [
    "e = np.eye(3)\n",
    "e"
   ]
  },
  {
   "cell_type": "code",
   "execution_count": 40,
   "id": "8ed4c1a8",
   "metadata": {},
   "outputs": [
    {
     "data": {
      "text/plain": [
       "(array([19.33796029+0.j        ,  3.33101986+0.27211635j,\n",
       "         3.33101986-0.27211635j]),\n",
       " matrix([[-0.51282364+0.j        , -0.82824097+0.j        ,\n",
       "          -0.82824097-0.j        ],\n",
       "         [-0.20201163+0.j        ,  0.25315665+0.10782344j,\n",
       "           0.25315665-0.10782344j],\n",
       "         [-0.83438793+0.j        ,  0.47573568-0.10944528j,\n",
       "           0.47573568+0.10944528j]]))"
      ]
     },
     "execution_count": 40,
     "metadata": {},
     "output_type": "execute_result"
    }
   ],
   "source": [
    "# creating a new matrix which  is linear transformation of x\n",
    "m = x + 20*e\n",
    "np.linalg.eig(x)"
   ]
  },
  {
   "cell_type": "code",
   "execution_count": 41,
   "id": "d787d4fe",
   "metadata": {},
   "outputs": [
    {
     "data": {
      "text/plain": [
       "(array([39.33796029+0.j        , 23.33101986+0.27211635j,\n",
       "        23.33101986-0.27211635j]),\n",
       " matrix([[-0.51282364+0.j        , -0.82824097+0.j        ,\n",
       "          -0.82824097-0.j        ],\n",
       "         [-0.20201163+0.j        ,  0.25315665+0.10782344j,\n",
       "           0.25315665-0.10782344j],\n",
       "         [-0.83438793+0.j        ,  0.47573568-0.10944528j,\n",
       "           0.47573568+0.10944528j]]))"
      ]
     },
     "execution_count": 41,
     "metadata": {},
     "output_type": "execute_result"
    }
   ],
   "source": [
    "np.linalg.eig(m)"
   ]
  },
  {
   "cell_type": "code",
   "execution_count": null,
   "id": "1e53c44d",
   "metadata": {},
   "outputs": [],
   "source": []
  }
 ],
 "metadata": {
  "kernelspec": {
   "display_name": "Python 3 (ipykernel)",
   "language": "python",
   "name": "python3"
  },
  "language_info": {
   "codemirror_mode": {
    "name": "ipython",
    "version": 3
   },
   "file_extension": ".py",
   "mimetype": "text/x-python",
   "name": "python",
   "nbconvert_exporter": "python",
   "pygments_lexer": "ipython3",
   "version": "3.9.7"
  }
 },
 "nbformat": 4,
 "nbformat_minor": 5
}
