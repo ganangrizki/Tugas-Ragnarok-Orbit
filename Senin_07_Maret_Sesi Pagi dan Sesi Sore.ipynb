{
 "cells": [
  {
   "cell_type": "markdown",
   "id": "43c03595",
   "metadata": {},
   "source": [
    "# **Tugas Sesi Pagi**"
   ]
  },
  {
   "cell_type": "markdown",
   "id": "330c589e",
   "metadata": {},
   "source": [
    "# **Buatlah 3 OOP beserta turunannya dari objek sekitar, buat ulang seperti yang diatas (encapsulation, abstaction, inheritance, polymorphism)**"
   ]
  },
  {
   "cell_type": "markdown",
   "id": "c52316a5",
   "metadata": {},
   "source": [
    "# **encapsulation**"
   ]
  },
  {
   "cell_type": "code",
   "execution_count": 26,
   "id": "df614de2",
   "metadata": {},
   "outputs": [
    {
     "name": "stdout",
     "output_type": "stream",
     "text": [
      "merk: LG, warna: hitam, barang:Televisi, dayalistrik : 50-100watt\n",
      "Televisi 30in...\n"
     ]
    }
   ],
   "source": [
    "merk= \"LG\"\n",
    "warna= \"hitam\"\n",
    "barang = \"Televisi\"\n",
    "dayalistrik = \" 50-100watt\"\n",
    "\n",
    "def tv():\n",
    "    print(\"Televisi 30in...\")\n",
    "    \n",
    "def info_tv(merk,warna,barang,dayalistrik):\n",
    "    print(f\"merk: {merk}, warna: {warna}, barang:{barang}, dayalistrik :{dayalistrik}\") \n",
    "\n",
    "info_tv(merk,warna,barang,dayalistrik)\n",
    "tv()"
   ]
  },
  {
   "cell_type": "code",
   "execution_count": 34,
   "id": "e9da20dc",
   "metadata": {},
   "outputs": [
    {
     "name": "stdout",
     "output_type": "stream",
     "text": [
      "merk: LG, warna: hitam, barang:Televisi, dayalistrik : 50-100watt\n",
      "Barang Televisi 30 in\n"
     ]
    }
   ],
   "source": [
    "class Elektronik(object):\n",
    "    \n",
    "    nama_elektronik = \"\"\n",
    "    def __init__(tv, input_merk, input_warna, input_barang, input_dayalistrik):\n",
    "        tv.merk = input_merk\n",
    "        tv.warna = input_warna\n",
    "        tv.barang = input_barang\n",
    "        tv.dayalistrik = input_dayalistrik\n",
    "        Elektronik.nama_elektronik = input_merk\n",
    "\n",
    "    def tv(tv):\n",
    "        print(\"Barang\", tv.merk)\n",
    "\n",
    "    def info(tv):\n",
    "        print(f\"merk: {merk}, warna: {warna}, barang:{barang}, dayalistrik :{dayalistrik}\")\n",
    "\n",
    "\n",
    "elektronik1 = Elektronik(\"Televisi 30 in\", \"LG\", \"Hitam\", \"50-100watt\")\n",
    "\n",
    "elektronik1.info()\n",
    "elektronik1.tv()"
   ]
  },
  {
   "cell_type": "code",
   "execution_count": 35,
   "id": "52997423",
   "metadata": {},
   "outputs": [
    {
     "name": "stdout",
     "output_type": "stream",
     "text": [
      "merk: LG, warna: hitam, barang:Televisi, dayalistrik : 50-100watt\n"
     ]
    }
   ],
   "source": [
    "elektronik1.info()"
   ]
  },
  {
   "cell_type": "markdown",
   "id": "12c7e4ed",
   "metadata": {},
   "source": [
    "# **abstaction** #"
   ]
  },
  {
   "cell_type": "code",
   "execution_count": 7,
   "id": "f3f0edf4",
   "metadata": {},
   "outputs": [],
   "source": [
    "from abc import abstractmethod, ABC"
   ]
  },
  {
   "cell_type": "code",
   "execution_count": 22,
   "id": "68d66649",
   "metadata": {},
   "outputs": [],
   "source": [
    "class Hewan(ABC):\n",
    "    \n",
    "    @abstractmethod\n",
    "    def caramemakan(self):\n",
    "        pass\n",
    "    \n",
    "class Harimau(Hewan):\n",
    "    def caramemakan(self):\n",
    "        print(\"Menjatuhkan ke tanah dan mematahkan atau menggigit lehernya hingga mati.\\n\")\n",
    "        \n",
    "class Buaya(Hewan):\n",
    "    def caramemakan(self):\n",
    "        print(\"cara makanya dengan menerkam sekaligus menggigit mangsanya kemudian menarik dengan kuat dan tiba-tiba ke air.\")"
   ]
  },
  {
   "cell_type": "code",
   "execution_count": 23,
   "id": "810e0c6e",
   "metadata": {},
   "outputs": [
    {
     "name": "stdout",
     "output_type": "stream",
     "text": [
      "Menjatuhkan ke tanah dan mematahkan atau menggigit lehernya hingga mati.\n",
      "\n",
      "cara makanya dengan menerkam sekaligus menggigit mangsanya kemudian menarik dengan kuat dan tiba-tiba ke air.\n"
     ]
    }
   ],
   "source": [
    "harimau1=Harimau()\n",
    "buaya1=Buaya()\n",
    "\n",
    "harimau1.caramemakan()\n",
    "buaya1.caramemakan()"
   ]
  },
  {
   "cell_type": "markdown",
   "id": "367a9873",
   "metadata": {},
   "source": [
    "# **inheritance**"
   ]
  },
  {
   "cell_type": "code",
   "execution_count": 46,
   "id": "7e09c100",
   "metadata": {},
   "outputs": [
    {
     "name": "stdout",
     "output_type": "stream",
     "text": [
      "merk: Acer, so: windows, ram:8gb, dayalistrik :220-250w\n"
     ]
    }
   ],
   "source": [
    "class Komputer(object):\n",
    "    \n",
    "    def __init__(kp, input_merk, input_so, input_ram, input_dayalistrik):\n",
    "        kp.merk = input_merk\n",
    "        kp.so = input_so\n",
    "        kp.ram = input_ram\n",
    "        kp.dayalistrik=input_dayalistrik\n",
    "\n",
    "    def ddr(kp, kmp):\n",
    "        for x in range(kmp):\n",
    "            print(\" 8memory\")\n",
    "\n",
    "    def info(kp):\n",
    "        print(f\"merk: {kp.merk}, so: {kp.so}, ram:{kp.ram}, dayalistrik :{kp.dayalistrik}\")\n",
    "\n",
    "\n",
    "computers1 = Komputer(\"Acer\", \"windows\", \"8gb\", \"220-250w\")\n",
    "\n",
    "computers1.info()"
   ]
  },
  {
   "cell_type": "markdown",
   "id": "b1b8702b",
   "metadata": {},
   "source": [
    "# **polymorphism**"
   ]
  },
  {
   "cell_type": "code",
   "execution_count": 4,
   "id": "7fa77666",
   "metadata": {},
   "outputs": [
    {
     "ename": "SyntaxError",
     "evalue": "invalid syntax (Temp/ipykernel_8152/4231666163.py, line 18)",
     "output_type": "error",
     "traceback": [
      "\u001b[1;36m  File \u001b[1;32m\"C:\\Users\\ACER\\AppData\\Local\\Temp/ipykernel_8152/4231666163.py\"\u001b[1;36m, line \u001b[1;32m18\u001b[0m\n\u001b[1;33m    super().__init__(nama, barang, jenis,harga):\u001b[0m\n\u001b[1;37m                                                ^\u001b[0m\n\u001b[1;31mSyntaxError\u001b[0m\u001b[1;31m:\u001b[0m invalid syntax\n"
     ]
    }
   ],
   "source": [
    "class Elektronik(object):\n",
    "    def __init__(self, nama, barang, jenis,harga):\n",
    "        self.nama=nama\n",
    "        self.barang=barang\n",
    "        self.jenis=jenis\n",
    "        self.harga=harga\n",
    "    \n",
    "    \n",
    "    def ecle(self,alat):\n",
    "        for x in range(alat):\n",
    "            print(\"Ini adalah alat-alat elektronik\")\n",
    "            \n",
    "    def info(self):\n",
    "        print(f\"nama: {self.nama}, barang: {self.barang}, jenis: {self.jenisp}, jenis: {self.jenis}\")\n",
    "\n",
    "class spiker(Elektronik):\n",
    "    def __init__(self, nama, barang, jenis,harga):\n",
    "        super().__init__(nama, barang, jenis,harga):\n",
    "        self.merk=merk\n",
    "        self.dayaspiker=dayaspiker\n",
    "    def info_spiker(self):\n",
    "        print(f\"merk:{self.merk},dayaspiker:{self.dayaspiker}\")\n",
    "        \n",
    "spiker1= Spiker(\"spiker sound\",\"barang bagus\",\"audio bass\",\"Polytron\",\"200w\")\n",
    "spiker1.info()\n",
    "spiker1.info_spiker()\n",
    "    "
   ]
  },
  {
   "cell_type": "markdown",
   "id": "b57aa448",
   "metadata": {},
   "source": [
    "# **Tugas Tambahan**"
   ]
  },
  {
   "cell_type": "code",
   "execution_count": 8,
   "id": "dae53c52",
   "metadata": {},
   "outputs": [
    {
     "ename": "SyntaxError",
     "evalue": "invalid syntax (file_oop.py, line 18)",
     "output_type": "error",
     "traceback": [
      "Traceback \u001b[1;36m(most recent call last)\u001b[0m:\n",
      "  File \u001b[0;32m\"C:\\ProgramData\\Anaconda3\\lib\\site-packages\\IPython\\core\\interactiveshell.py\"\u001b[0m, line \u001b[0;32m3444\u001b[0m, in \u001b[0;35mrun_code\u001b[0m\n    exec(code_obj, self.user_global_ns, self.user_ns)\n",
      "\u001b[1;36m  File \u001b[1;32m\"C:\\Users\\ACER\\AppData\\Local\\Temp/ipykernel_8152/1532204974.py\"\u001b[1;36m, line \u001b[1;32m1\u001b[1;36m, in \u001b[1;35m<module>\u001b[1;36m\u001b[0m\n\u001b[1;33m    import file_oop as fo\u001b[0m\n",
      "\u001b[1;36m  File \u001b[1;32m\"D:\\Tugas-Ragnarok-Orbit\\file_oop.py\"\u001b[1;36m, line \u001b[1;32m18\u001b[0m\n\u001b[1;33m    (buaya1=Buaya()\u001b[0m\n\u001b[1;37m           ^\u001b[0m\n\u001b[1;31mSyntaxError\u001b[0m\u001b[1;31m:\u001b[0m invalid syntax\n"
     ]
    }
   ],
   "source": [
    "import file_oop as fo"
   ]
  },
  {
   "cell_type": "code",
   "execution_count": 9,
   "id": "348d6584",
   "metadata": {},
   "outputs": [
    {
     "ename": "NameError",
     "evalue": "name 'buaya1' is not defined",
     "output_type": "error",
     "traceback": [
      "\u001b[1;31m---------------------------------------------------------------------------\u001b[0m",
      "\u001b[1;31mNameError\u001b[0m                                 Traceback (most recent call last)",
      "\u001b[1;32m~\\AppData\\Local\\Temp/ipykernel_8152/2794185487.py\u001b[0m in \u001b[0;36m<module>\u001b[1;34m\u001b[0m\n\u001b[1;32m----> 1\u001b[1;33m \u001b[0mbuaya1\u001b[0m\u001b[1;33m.\u001b[0m\u001b[0mbuaya\u001b[0m\u001b[1;33m(\u001b[0m\u001b[1;33m)\u001b[0m\u001b[1;33m\u001b[0m\u001b[1;33m\u001b[0m\u001b[0m\n\u001b[0m\u001b[0;32m      2\u001b[0m \u001b[0mbuaya1\u001b[0m\u001b[1;33m.\u001b[0m\u001b[0mcaramakan\u001b[0m\u001b[1;33m(\u001b[0m\u001b[1;33m)\u001b[0m\u001b[1;33m\u001b[0m\u001b[1;33m\u001b[0m\u001b[0m\n",
      "\u001b[1;31mNameError\u001b[0m: name 'buaya1' is not defined"
     ]
    }
   ],
   "source": [
    "buaya1.buaya()\n",
    "buaya1.caramakan()"
   ]
  },
  {
   "cell_type": "code",
   "execution_count": null,
   "id": "65a7333a",
   "metadata": {},
   "outputs": [],
   "source": []
  },
  {
   "cell_type": "code",
   "execution_count": null,
   "id": "688987cb",
   "metadata": {},
   "outputs": [],
   "source": []
  }
 ],
 "metadata": {
  "kernelspec": {
   "display_name": "Python 3 (ipykernel)",
   "language": "python",
   "name": "python3"
  },
  "language_info": {
   "codemirror_mode": {
    "name": "ipython",
    "version": 3
   },
   "file_extension": ".py",
   "mimetype": "text/x-python",
   "name": "python",
   "nbconvert_exporter": "python",
   "pygments_lexer": "ipython3",
   "version": "3.9.7"
  }
 },
 "nbformat": 4,
 "nbformat_minor": 5
}
