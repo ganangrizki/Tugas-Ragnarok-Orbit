{
 "cells": [
  {
   "cell_type": "markdown",
   "id": "43c03595",
   "metadata": {},
   "source": [
    "# **Tugas Sesi Pagi**"
   ]
  },
  {
   "cell_type": "markdown",
   "id": "330c589e",
   "metadata": {},
   "source": [
    "# **Buatlah 3 OOP beserta turunannya dari objek sekitar, buat ulang seperti yang diatas (encapsulation, abstaction, inheritance, polymorphism)**"
   ]
  },
  {
   "cell_type": "markdown",
   "id": "c52316a5",
   "metadata": {},
   "source": [
    "# **encapsulation**"
   ]
  },
  {
   "cell_type": "code",
   "execution_count": 1,
   "id": "df614de2",
   "metadata": {},
   "outputs": [
    {
     "name": "stdout",
     "output_type": "stream",
     "text": [
      "merk: LG, warna: hitam, barang:Televisi, dayalistrik : 50-100watt\n",
      "Televisi 30in...\n"
     ]
    }
   ],
   "source": [
    "merk= \"LG\"\n",
    "warna= \"hitam\"\n",
    "barang = \"Televisi\"\n",
    "dayalistrik = \" 50-100watt\"\n",
    "\n",
    "def tv():\n",
    "    print(\"Televisi 30in...\")\n",
    "    \n",
    "def info_tv(merk,warna,barang,dayalistrik):\n",
    "    print(f\"merk: {merk}, warna: {warna}, barang:{barang}, dayalistrik :{dayalistrik}\") \n",
    "\n",
    "info_tv(merk,warna,barang,dayalistrik)\n",
    "tv()"
   ]
  },
  {
   "cell_type": "code",
   "execution_count": 2,
   "id": "e9da20dc",
   "metadata": {},
   "outputs": [
    {
     "name": "stdout",
     "output_type": "stream",
     "text": [
      "merk: LG, warna: hitam, barang:Televisi, dayalistrik : 50-100watt\n",
      "Barang Televisi 30 in\n"
     ]
    }
   ],
   "source": [
    "class Elektronik(object):\n",
    "    \n",
    "    nama_elektronik = \"\"\n",
    "    def __init__(tv, input_merk, input_warna, input_barang, input_dayalistrik):\n",
    "        tv.merk = input_merk\n",
    "        tv.warna = input_warna\n",
    "        tv.barang = input_barang\n",
    "        tv.dayalistrik = input_dayalistrik\n",
    "        Elektronik.nama_elektronik = input_merk\n",
    "\n",
    "    def tv(tv):\n",
    "        print(\"Barang\", tv.merk)\n",
    "\n",
    "    def info(tv):\n",
    "        print(f\"merk: {merk}, warna: {warna}, barang:{barang}, dayalistrik :{dayalistrik}\")\n",
    "\n",
    "\n",
    "elektronik1 = Elektronik(\"Televisi 30 in\", \"LG\", \"Hitam\", \"50-100watt\")\n",
    "\n",
    "elektronik1.info()\n",
    "elektronik1.tv()"
   ]
  },
  {
   "cell_type": "code",
   "execution_count": 3,
   "id": "52997423",
   "metadata": {},
   "outputs": [
    {
     "name": "stdout",
     "output_type": "stream",
     "text": [
      "merk: LG, warna: hitam, barang:Televisi, dayalistrik : 50-100watt\n"
     ]
    }
   ],
   "source": [
    "elektronik1.info()"
   ]
  },
  {
   "cell_type": "markdown",
   "id": "12c7e4ed",
   "metadata": {},
   "source": [
    "# **abstaction** #"
   ]
  },
  {
   "cell_type": "code",
   "execution_count": 4,
   "id": "f3f0edf4",
   "metadata": {},
   "outputs": [],
   "source": [
    "from abc import abstractmethod, ABC"
   ]
  },
  {
   "cell_type": "code",
   "execution_count": 5,
   "id": "68d66649",
   "metadata": {},
   "outputs": [],
   "source": [
    "class Hewan(ABC):\n",
    "    \n",
    "    @abstractmethod\n",
    "    def caramemakan(self):\n",
    "        pass\n",
    "    \n",
    "class Harimau(Hewan):\n",
    "    def caramemakan(self):\n",
    "        print(\"Menjatuhkan ke tanah dan mematahkan atau menggigit lehernya hingga mati.\\n\")\n",
    "        \n",
    "class Buaya(Hewan):\n",
    "    def caramemakan(self):\n",
    "        print(\"cara makanya dengan menerkam sekaligus menggigit mangsanya kemudian menarik dengan kuat dan tiba-tiba ke air.\")"
   ]
  },
  {
   "cell_type": "code",
   "execution_count": 6,
   "id": "810e0c6e",
   "metadata": {},
   "outputs": [
    {
     "name": "stdout",
     "output_type": "stream",
     "text": [
      "Menjatuhkan ke tanah dan mematahkan atau menggigit lehernya hingga mati.\n",
      "\n",
      "cara makanya dengan menerkam sekaligus menggigit mangsanya kemudian menarik dengan kuat dan tiba-tiba ke air.\n"
     ]
    }
   ],
   "source": [
    "harimau1=Harimau()\n",
    "buaya1=Buaya()\n",
    "\n",
    "harimau1.caramemakan()\n",
    "buaya1.caramemakan()"
   ]
  },
  {
   "cell_type": "markdown",
   "id": "367a9873",
   "metadata": {},
   "source": [
    "# **inheritance**"
   ]
  },
  {
   "cell_type": "code",
   "execution_count": 7,
   "id": "7e09c100",
   "metadata": {},
   "outputs": [
    {
     "name": "stdout",
     "output_type": "stream",
     "text": [
      "merk: Acer, so: windows, ram:8gb, dayalistrik :220-250w\n"
     ]
    }
   ],
   "source": [
    "class Komputer(object):\n",
    "    \n",
    "    def __init__(kp, input_merk, input_so, input_ram, input_dayalistrik):\n",
    "        kp.merk = input_merk\n",
    "        kp.so = input_so\n",
    "        kp.ram = input_ram\n",
    "        kp.dayalistrik=input_dayalistrik\n",
    "\n",
    "    def ddr(kp, kmp):\n",
    "        for x in range(kmp):\n",
    "            print(\" 8memory\")\n",
    "\n",
    "    def info(kp):\n",
    "        print(f\"merk: {kp.merk}, so: {kp.so}, ram:{kp.ram}, dayalistrik :{kp.dayalistrik}\")\n",
    "\n",
    "\n",
    "computers1 = Komputer(\"Acer\", \"windows\", \"8gb\", \"220-250w\")\n",
    "\n",
    "computers1.info()"
   ]
  },
  {
   "cell_type": "markdown",
   "id": "b1b8702b",
   "metadata": {},
   "source": [
    "# **polymorphism**"
   ]
  },
  {
   "cell_type": "code",
   "execution_count": 8,
   "id": "7fa77666",
   "metadata": {},
   "outputs": [],
   "source": [
    "class hewan(object):\n",
    "    def __init__(self, jenis, tempat, makanan):\n",
    "        self.jenis = jenis\n",
    "        self.tempat = tempat\n",
    "        self.makanan = makanan\n",
    "    \n",
    "    def h(self, durasi):\n",
    "        for i in range(durasi):\n",
    "            print(\"jenis hewan\")\n",
    "            \n",
    "    def info(self):\n",
    "        print(f\"jenis: {self.jenis}\\nTempat tinggal: {self.tempat}\\nMakanan: {self.makanan}\")\n",
    "\n",
    "        \n",
    "class Harimau(hewan):\n",
    "    def __init__(self, jenis, tempat, makanan,keturunan):\n",
    "        super().__init__(jenis, tempat, makanan)\n",
    "        self.keturunan= keturunan\n",
    "        \n",
    "        \n",
    "    def ab(self, durasi):\n",
    "        for i in range(durasi):\n",
    "            print(\"ini adalah harimau.\")\n",
    "        "
   ]
  },
  {
   "cell_type": "code",
   "execution_count": 9,
   "id": "2b15fe07",
   "metadata": {},
   "outputs": [],
   "source": [
    "import Hewan as hwn"
   ]
  },
  {
   "cell_type": "code",
   "execution_count": 10,
   "id": "58fe3375",
   "metadata": {},
   "outputs": [
    {
     "name": "stdout",
     "output_type": "stream",
     "text": [
      "jenis: Binatang buas\n",
      "Tempat tinggal: Hutan\n",
      "Makanan: Daging\n"
     ]
    }
   ],
   "source": [
    "Hewan1 = Harimau(\"Binatang buas\", \"Hutan\", \"Daging\", \"Hewan punah\")\n",
    "\n",
    "Hewan1.info()"
   ]
  },
  {
   "cell_type": "code",
   "execution_count": null,
   "id": "3f683e22",
   "metadata": {},
   "outputs": [],
   "source": []
  },
  {
   "cell_type": "code",
   "execution_count": null,
   "id": "17df9480",
   "metadata": {},
   "outputs": [],
   "source": []
  }
 ],
 "metadata": {
  "kernelspec": {
   "display_name": "Python 3 (ipykernel)",
   "language": "python",
   "name": "python3"
  },
  "language_info": {
   "codemirror_mode": {
    "name": "ipython",
    "version": 3
   },
   "file_extension": ".py",
   "mimetype": "text/x-python",
   "name": "python",
   "nbconvert_exporter": "python",
   "pygments_lexer": "ipython3",
   "version": "3.9.7"
  }
 },
 "nbformat": 4,
 "nbformat_minor": 5
}
