{
 "cells": [
  {
   "cell_type": "markdown",
   "id": "44b27b29",
   "metadata": {},
   "source": [
    "# Tugas Pagi"
   ]
  },
  {
   "cell_type": "markdown",
   "id": "ab431381",
   "metadata": {},
   "source": [
    "### 1. Berikut ini adalah tiga variabel yang menyimpan value dengan tipe boolean. Dengan menggunakan variabel tersebut, cobalah untuk mengerjakan soal 1 - 5 ! (Akan lebih seru jika kamu menebak terlebih dahulu hasilnya, kemudian baru implementasikan ke dalam kode program. Jika terdapat error, cobalah untuk menyelesaikannya sendiri terlebih dahulu).\n",
    "\n",
    "   ### 1. (b and c)  jawab     False\n",
    "   ### 2. b or c        jawab       True\n",
    "   ### 3. not a and b    jawab  True\n",
    "   ### 4. (a and b) or not c jawab True\n",
    "   ### 5. not b and not (a or c) jawab False "
   ]
  },
  {
   "cell_type": "markdown",
   "id": "1aada1c8",
   "metadata": {},
   "source": [
    "### Menebak dulu baru dicoding"
   ]
  },
  {
   "cell_type": "code",
   "execution_count": 1,
   "id": "2b300ee7",
   "metadata": {},
   "outputs": [],
   "source": [
    "a = False\n",
    "b = True\n",
    "c = False"
   ]
  },
  {
   "cell_type": "code",
   "execution_count": 2,
   "id": "750208a1",
   "metadata": {},
   "outputs": [
    {
     "name": "stdout",
     "output_type": "stream",
     "text": [
      "False\n"
     ]
    }
   ],
   "source": [
    "#1. (b and c)\n",
    "print(b and c)"
   ]
  },
  {
   "cell_type": "code",
   "execution_count": 3,
   "id": "0217d326",
   "metadata": {},
   "outputs": [
    {
     "name": "stdout",
     "output_type": "stream",
     "text": [
      "True\n"
     ]
    }
   ],
   "source": [
    "#2. b or c\n",
    "print (b or c)"
   ]
  },
  {
   "cell_type": "code",
   "execution_count": 4,
   "id": "ee598f22",
   "metadata": {},
   "outputs": [
    {
     "name": "stdout",
     "output_type": "stream",
     "text": [
      "True\n"
     ]
    }
   ],
   "source": [
    "#3. not a and b\n",
    "print(not a and b)"
   ]
  },
  {
   "cell_type": "code",
   "execution_count": 5,
   "id": "d5ffbeee",
   "metadata": {},
   "outputs": [
    {
     "name": "stdout",
     "output_type": "stream",
     "text": [
      "False\n"
     ]
    },
    {
     "data": {
      "text/plain": [
       "True"
      ]
     },
     "execution_count": 5,
     "metadata": {},
     "output_type": "execute_result"
    }
   ],
   "source": [
    "#4. (a and b) or not c\n",
    "print (a and b) or not c"
   ]
  },
  {
   "cell_type": "code",
   "execution_count": 6,
   "id": "b4d4f6fd",
   "metadata": {},
   "outputs": [
    {
     "name": "stdout",
     "output_type": "stream",
     "text": [
      "False\n"
     ]
    }
   ],
   "source": [
    "#5. not b and not (a or c)\n",
    "print(not b and not (a or c))"
   ]
  },
  {
   "cell_type": "markdown",
   "id": "980bb4ca",
   "metadata": {},
   "source": [
    "#### 2. Di bawah ini terdapat potongan kode program yang masih terdapat error (bug). Selesaikan permasalahan bug tersebut menggunakan pemahaman yang sudah dipelajari!"
   ]
  },
  {
   "cell_type": "code",
   "execution_count": 7,
   "id": "d0890ee5",
   "metadata": {},
   "outputs": [
    {
     "name": "stdout",
     "output_type": "stream",
     "text": [
      "Hello!\n",
      "Enter something:Ganang Rizki Saputro\n",
      "You entered: Ganang Rizki Saputro\n"
     ]
    }
   ],
   "source": [
    "print('Hello!')\n",
    "\n",
    "something = input(\"Enter something:\")\n",
    "print('You entered:', something)"
   ]
  },
  {
   "cell_type": "markdown",
   "id": "cb385d7b",
   "metadata": {},
   "source": [
    "### 3 . Lakukan hal yang sama seperti pada soal nomor 2!"
   ]
  },
  {
   "cell_type": "code",
   "execution_count": 8,
   "id": "64bc289e",
   "metadata": {},
   "outputs": [
    {
     "name": "stdout",
     "output_type": "stream",
     "text": [
      "Hello!\n",
      "Enter something: Ganang\n",
      "I don't know what, Ganang means.\n"
     ]
    }
   ],
   "source": [
    "print('Hello!')\n",
    "something = input(\"Enter something: \")\n",
    "if something == 'hello':\n",
    "    print(\"Hello for you too1\")\n",
    "    \n",
    "elif something == 'hi':\n",
    "    print('Hi there!')\n",
    "else:\n",
    "    print(\"I don't know what,\",something,\"means.\")"
   ]
  },
  {
   "cell_type": "markdown",
   "id": "4f9ada0c",
   "metadata": {},
   "source": [
    "### 4. Buatlah program yang dapat mencetak kata halo dan hai sebanyak 100 kali. contoh: halo hai halo hai … 98x !. Pastikan terdapat spasi di antara setiap perulangan kata!"
   ]
  },
  {
   "cell_type": "code",
   "execution_count": 27,
   "id": "ab5b5033",
   "metadata": {},
   "outputs": [
    {
     "name": "stdout",
     "output_type": "stream",
     "text": [
      "('halo', 'hai', 'halo', 'hai')\n",
      "('halo', 'hai', 'halo', 'hai')\n",
      "('halo', 'hai', 'halo', 'hai')\n",
      "('halo', 'hai', 'halo', 'hai')\n",
      "('halo', 'hai', 'halo', 'hai')\n",
      "('halo', 'hai', 'halo', 'hai')\n",
      "('halo', 'hai', 'halo', 'hai')\n",
      "('halo', 'hai', 'halo', 'hai')\n",
      "('halo', 'hai', 'halo', 'hai')\n",
      "('halo', 'hai', 'halo', 'hai')\n",
      "('halo', 'hai', 'halo', 'hai')\n",
      "('halo', 'hai', 'halo', 'hai')\n",
      "('halo', 'hai', 'halo', 'hai')\n",
      "('halo', 'hai', 'halo', 'hai')\n",
      "('halo', 'hai', 'halo', 'hai')\n",
      "('halo', 'hai', 'halo', 'hai')\n",
      "('halo', 'hai', 'halo', 'hai')\n",
      "('halo', 'hai', 'halo', 'hai')\n",
      "('halo', 'hai', 'halo', 'hai')\n",
      "('halo', 'hai', 'halo', 'hai')\n",
      "('halo', 'hai', 'halo', 'hai')\n",
      "('halo', 'hai', 'halo', 'hai')\n",
      "('halo', 'hai', 'halo', 'hai')\n",
      "('halo', 'hai', 'halo', 'hai')\n",
      "('halo', 'hai', 'halo', 'hai')\n",
      "('halo', 'hai', 'halo', 'hai')\n",
      "('halo', 'hai', 'halo', 'hai')\n",
      "('halo', 'hai', 'halo', 'hai')\n",
      "('halo', 'hai', 'halo', 'hai')\n",
      "('halo', 'hai', 'halo', 'hai')\n",
      "('halo', 'hai', 'halo', 'hai')\n",
      "('halo', 'hai', 'halo', 'hai')\n",
      "('halo', 'hai', 'halo', 'hai')\n",
      "('halo', 'hai', 'halo', 'hai')\n",
      "('halo', 'hai', 'halo', 'hai')\n",
      "('halo', 'hai', 'halo', 'hai')\n",
      "('halo', 'hai', 'halo', 'hai')\n",
      "('halo', 'hai', 'halo', 'hai')\n",
      "('halo', 'hai', 'halo', 'hai')\n",
      "('halo', 'hai', 'halo', 'hai')\n",
      "('halo', 'hai', 'halo', 'hai')\n",
      "('halo', 'hai', 'halo', 'hai')\n",
      "('halo', 'hai', 'halo', 'hai')\n",
      "('halo', 'hai', 'halo', 'hai')\n",
      "('halo', 'hai', 'halo', 'hai')\n",
      "('halo', 'hai', 'halo', 'hai')\n",
      "('halo', 'hai', 'halo', 'hai')\n",
      "('halo', 'hai', 'halo', 'hai')\n",
      "('halo', 'hai', 'halo', 'hai')\n",
      "('halo', 'hai', 'halo', 'hai')\n",
      "('halo', 'hai', 'halo', 'hai')\n",
      "('halo', 'hai', 'halo', 'hai')\n",
      "('halo', 'hai', 'halo', 'hai')\n",
      "('halo', 'hai', 'halo', 'hai')\n",
      "('halo', 'hai', 'halo', 'hai')\n",
      "('halo', 'hai', 'halo', 'hai')\n",
      "('halo', 'hai', 'halo', 'hai')\n",
      "('halo', 'hai', 'halo', 'hai')\n",
      "('halo', 'hai', 'halo', 'hai')\n",
      "('halo', 'hai', 'halo', 'hai')\n",
      "('halo', 'hai', 'halo', 'hai')\n",
      "('halo', 'hai', 'halo', 'hai')\n",
      "('halo', 'hai', 'halo', 'hai')\n",
      "('halo', 'hai', 'halo', 'hai')\n",
      "('halo', 'hai', 'halo', 'hai')\n",
      "('halo', 'hai', 'halo', 'hai')\n",
      "('halo', 'hai', 'halo', 'hai')\n",
      "('halo', 'hai', 'halo', 'hai')\n",
      "('halo', 'hai', 'halo', 'hai')\n",
      "('halo', 'hai', 'halo', 'hai')\n",
      "('halo', 'hai', 'halo', 'hai')\n",
      "('halo', 'hai', 'halo', 'hai')\n",
      "('halo', 'hai', 'halo', 'hai')\n",
      "('halo', 'hai', 'halo', 'hai')\n",
      "('halo', 'hai', 'halo', 'hai')\n",
      "('halo', 'hai', 'halo', 'hai')\n",
      "('halo', 'hai', 'halo', 'hai')\n",
      "('halo', 'hai', 'halo', 'hai')\n",
      "('halo', 'hai', 'halo', 'hai')\n",
      "('halo', 'hai', 'halo', 'hai')\n",
      "('halo', 'hai', 'halo', 'hai')\n",
      "('halo', 'hai', 'halo', 'hai')\n",
      "('halo', 'hai', 'halo', 'hai')\n",
      "('halo', 'hai', 'halo', 'hai')\n",
      "('halo', 'hai', 'halo', 'hai')\n",
      "('halo', 'hai', 'halo', 'hai')\n",
      "('halo', 'hai', 'halo', 'hai')\n",
      "('halo', 'hai', 'halo', 'hai')\n",
      "('halo', 'hai', 'halo', 'hai')\n",
      "('halo', 'hai', 'halo', 'hai')\n",
      "('halo', 'hai', 'halo', 'hai')\n",
      "('halo', 'hai', 'halo', 'hai')\n",
      "('halo', 'hai', 'halo', 'hai')\n",
      "('halo', 'hai', 'halo', 'hai')\n",
      "('halo', 'hai', 'halo', 'hai')\n",
      "('halo', 'hai', 'halo', 'hai')\n",
      "('halo', 'hai', 'halo', 'hai')\n",
      "('halo', 'hai', 'halo', 'hai')\n",
      "('halo', 'hai', 'halo', 'hai')\n",
      "('halo', 'hai', 'halo', 'hai')\n"
     ]
    }
   ],
   "source": [
    "for i in range(0, 100):\n",
    "    repeat=('halo' ,'hai' ,'halo' ,'hai')\n",
    "    print(repeat)"
   ]
  },
  {
   "cell_type": "markdown",
   "id": "356a7b25",
   "metadata": {},
   "source": [
    "### 5. In this exercise, you are going to practice using conditionals (if, elif, else). You will write a small program that will determine the result of a rock, paper, scissors game, given Player 1 and Player 2’s choices. Your program will print out the result. Here are the rules of the game: \n",
    "Buatlah game suit batu-gunting-kertas sederhana. Di dalam program tersebut terdapat dua orang pemain yang dapat memilih batu/gunting/kertas menggunakan input dari pengguna. Untuk mempermudah penggambaran aturan pemenang dalam game, lengkapilah tabel kemenangan dengan menggunakan semua kemungkinan yang tersedia.\n",
    "a.Membuat tabel kemenangan (Boleh menggunakan format markdown di Jupyter Notebook)\n",
    "Pemain 1\tPemain 2\tPemenang\n",
    "batu\t    gunting \tPemain 1\n",
    "gunting \tgunting\t    Seri\n",
    "Kertas      batu        Pemain 2\n",
    "gunting     Kertas      Pemain 1\n",
    "Kertas      Kertas      Seri\n",
    "\n",
    "\t\t\n",
    "\n",
    "b.Tulislah semua kemungkinan ke dalam kode program. Input yang valid hanyalah “batu”, “gunting” dan “kertas” tanpa tanda kutip. Selain dari input tersebut program akan menghasilkan output berupa teks “Input tidak valid!. Gunakan “batu”, “ gunting” dan “kertas” tanpa tanda kutip!”\n",
    "Contoh input :\n",
    "Player 1? kertas\n",
    "Player 2? gunting\n",
    "Player 2 Wins!\n"
   ]
  },
  {
   "cell_type": "code",
   "execution_count": 33,
   "id": "90db2950",
   "metadata": {},
   "outputs": [
    {
     "name": "stdout",
     "output_type": "stream",
     "text": [
      "Player 1?batu\n",
      "Player 2?batu\n",
      "Seri!\n"
     ]
    }
   ],
   "source": [
    "player1 = input(\"Player 1?\")\n",
    "player2 = input(\"Player 2?\")\n",
    "if player1 == \"batu\" and player2 == \"gunting\":\n",
    "    print(\"Player 1 wins!\")\n",
    "elif player1 == \"gunting\" and player2 == \"gunting\":\n",
    "    print(\"Seri!\")\n",
    "elif player1 == \"kertas\" and player2 == \"batu\":\n",
    "    print(\"Player 2 wins!\")\n",
    "elif player1 == \"gunting\" and player2 == \"kertas\":\n",
    "    print(\"Player 1 wins!\")\n",
    "elif player1 == \"kertas\" and player2 == \"kertas\":\n",
    "    print(\"Seri!\")\n",
    "elif player1 == \"batu\" and player2 == \"kertas\":\n",
    "    print(\"Player 1 wins!\")\n",
    "elif player1 == \"batu\" and player2 == \"batu\":\n",
    "    print(\"Seri!\")\n",
    "else:\n",
    "    print(\"Input anda masih salah! Gunakan 'batu', 'kertas', 'gunting' tidak menggunakan tanda kutip kutip\")"
   ]
  },
  {
   "cell_type": "markdown",
   "id": "e306f53a",
   "metadata": {},
   "source": [
    "### 6. Buatlah program sederhana yang menerima input secara terus menerus, akan tetapi ketika input berupa string “berhenti”, maka program tersebut akan berhenti berjalan!"
   ]
  },
  {
   "cell_type": "code",
   "execution_count": 38,
   "id": "93905501",
   "metadata": {},
   "outputs": [
    {
     "name": "stdout",
     "output_type": "stream",
     "text": [
      "Masukan kata: Ganang\n",
      "Masukan kata lain: Ganang 1\n",
      "Masukan kata lain: ganang\n",
      "Masukan kata lain: berhenti\n"
     ]
    }
   ],
   "source": [
    "kata = input(\"Masukan kata: \")\n",
    "\n",
    "while kata != \"berhenti\":\n",
    "    kata = input(\"Masukan kata lain: \")"
   ]
  },
  {
   "cell_type": "markdown",
   "id": "f0b775d7",
   "metadata": {},
   "source": [
    "###  7. Dengan menggunakan konsep yang sama pada soal nomor 6, buatlah program yang dapat menampilkan menu makanan atau tertentu (minimal 3 menu). Pengguna dapat memilih salah satu dari menu yang disediakan dan menampilkan kembali menu yang dipesan beserta harganya. Program akan berhenti berjalan apabila input dari pengguna berupa string “cukup”.\n",
    "\n",
    "Contoh:\n",
    "MENU JAJANAN PASAR\n",
    "1.Donat - Rp 1250\n",
    "2.Bakwan - Rp 1000\n",
    "3.Onde-onde - Rp 800\n",
    "4.Lemper  - Rp 1250\n",
    "5.Risol - Rp 1500 \n",
    "input user: 2\n",
    "input user “Masukkan berapa banyak kamu ingin beli?” : 15\n",
    "Kamu memesan Bakwan dengan harga Rp 15000, terima kasih sudah berbelanja!\n",
    "input user: cukup\n",
    "Terima kasih sudah berbelanja jajanan pasar kami!"
   ]
  },
  {
   "cell_type": "code",
   "execution_count": 54,
   "id": "a8594c66",
   "metadata": {},
   "outputs": [
    {
     "name": "stdout",
     "output_type": "stream",
     "text": [
      "MENU JAJANAN PASAR\n",
      "1. Donat - Rp.2000,- \n",
      "2. Bakwan - Rp.1000,- \n",
      "3. Cimol - Rp.4000,-\n",
      "Input User: 1\n",
      "Kamu pesan Donat dengan harga Rp.2000,-, terima kasih sudah berbelanja!\n",
      "Input User: 2\n",
      "Kamu pesan Bakwan dengan harga Rp.1000,-, terima kasih sudah berbelanja!\n",
      "Input User: 3\n",
      "Kamu pesan Cimol dengan harga Rp.4000,-, terima kasih sudah berbelanja!\n",
      "Input User: 2\n",
      "Kamu pesan Bakwan dengan harga Rp.1000,-, terima kasih sudah berbelanja!\n",
      "Input User: 3\n",
      "Kamu pesan Cimol dengan harga Rp.4000,-, terima kasih sudah berbelanja!\n",
      "Input User: 1\n",
      "Kamu pesan Donat dengan harga Rp.2000,-, terima kasih sudah berbelanja!\n",
      "Input User: 6\n",
      "Masukan dengan benar!\n",
      "Input User: 3\n",
      "Kamu pesan Cimol dengan harga Rp.4000,-, terima kasih sudah berbelanja!\n",
      "Input User: 2\n",
      "Kamu pesan Bakwan dengan harga Rp.1000,-, terima kasih sudah berbelanja!\n",
      "Input User: cukup\n",
      "Terimakasih sudah berbelanja jajanan pasar kami!\n"
     ]
    }
   ],
   "source": [
    "print(\"MENU JAJANAN PASAR\")\n",
    "print (\"1. Donat - Rp.2000,- \\n2. Bakwan - Rp.1000,- \\n3. Cimol - Rp.4000,-\")\n",
    "\n",
    "d= \"Donat\"\n",
    "d2000 = \"Rp.2000,-\"\n",
    "b = \"Bakwan\"\n",
    "b1000 = \"Rp.1000,-\"\n",
    "c = \"Cimol\"\n",
    "c4000 = \"Rp.4000,-\"\n",
    "\n",
    "while True:\n",
    "    user = input(\"Input User: \")\n",
    "    if user == \"1\":\n",
    "        print(\"Kamu pesan {} dengan harga {}, terima kasih sudah berbelanja!\".format(d, d2000))\n",
    "    elif user == \"2\":\n",
    "        print(\"Kamu pesan {} dengan harga {}, terima kasih sudah berbelanja!\".format(b, b1000))\n",
    "    elif user == \"3\":\n",
    "        print(\"Kamu pesan {} dengan harga {}, terima kasih sudah berbelanja!\".format(c, c4000))\n",
    "    elif user == \"cukup\":\n",
    "        print(\"Terimakasih sudah berbelanja jajanan pasar kami!\")\n",
    "        break\n",
    "    else:\n",
    "        print(\"Masukan dengan benar!\")"
   ]
  },
  {
   "cell_type": "markdown",
   "id": "57201799",
   "metadata": {},
   "source": [
    "### 8. Buat program pada nomor 7 menjadi sedikit lebih kompleks dengan studi kasus tambahan apabila pengguna ingin membeli 10 Bakwan!"
   ]
  },
  {
   "cell_type": "code",
   "execution_count": 1,
   "id": "b6b863c1",
   "metadata": {},
   "outputs": [
    {
     "name": "stdout",
     "output_type": "stream",
     "text": [
      "MENU JAJANAN PASAR\n",
      "1. Donat - Rp.2000,- \n",
      "2. Bakwan - Rp.1000,- \n",
      "3. Cimol - Rp.4000,-\n",
      "Jumlah bakwan yang ingin beli :  10\n",
      "Harga bakwan yang harus dibayar:\n",
      "10000\n",
      "Terimakasih sudah berbelanja jajanan pasar kami!\n",
      "MENU JAJANAN PASAR\n",
      "1. Donat - Rp.2000,- \n",
      "2. Bakwan - Rp.1000,- \n",
      "3. Cimol - Rp.4000,-\n",
      "Jumlah donat yang ingin beli :  15\n",
      "Harga donat yang harus dibayar:\n",
      "30000\n",
      "Terimakasih sudah berbelanja jajanan pasar kami!\n",
      "MENU JAJANAN PASAR\n",
      "1. Donat - Rp.2000,- \n",
      "2. Bakwan - Rp.1000,- \n",
      "3. Cimol - Rp.4000,-\n",
      "Jumlah cimol yang ingin beli :  7\n",
      "Harga cimol yang harus dibayar:\n",
      "28000\n",
      "Terimakasih sudah berbelanja jajanan pasar kami!\n"
     ]
    }
   ],
   "source": [
    "print(\"MENU JAJANAN PASAR\")\n",
    "print (\"1. Donat - Rp.2000,- \\n2. Bakwan - Rp.1000,- \\n3. Cimol - Rp.4000,-\")\n",
    "\n",
    "bakwan= 1000\n",
    "donat=2000\n",
    "cimol=4000\n",
    "\n",
    "\n",
    "user= int(input(\"Jumlah bakwan yang ingin beli :  \"))\n",
    "print (\"Harga bakwan yang harus dibayar:\")\n",
    "user=print(user*bakwan)\n",
    "print(\"Terimakasih sudah berbelanja jajanan pasar kami!\")\n",
    "\n",
    "print(\"MENU JAJANAN PASAR\")\n",
    "print (\"1. Donat - Rp.2000,- \\n2. Bakwan - Rp.1000,- \\n3. Cimol - Rp.4000,-\")\n",
    "\n",
    "bakwan= 1000\n",
    "donat=2000\n",
    "cimol=4000\n",
    "\n",
    "\n",
    "user= int(input(\"Jumlah donat yang ingin beli :  \"))\n",
    "print (\"Harga donat yang harus dibayar:\")\n",
    "user=print(user*donat)\n",
    "print(\"Terimakasih sudah berbelanja jajanan pasar kami!\")\n",
    "\n",
    "print(\"MENU JAJANAN PASAR\")\n",
    "print (\"1. Donat - Rp.2000,- \\n2. Bakwan - Rp.1000,- \\n3. Cimol - Rp.4000,-\")\n",
    "\n",
    "bakwan= 1000\n",
    "donat=2000\n",
    "cimol=4000\n",
    "\n",
    "\n",
    "user= int(input(\"Jumlah cimol yang ingin beli :  \"))\n",
    "print (\"Harga cimol yang harus dibayar:\")\n",
    "user=print(user*cimol)\n",
    "print(\"Terimakasih sudah berbelanja jajanan pasar kami!\")\n"
   ]
  },
  {
   "cell_type": "markdown",
   "id": "660f19a1",
   "metadata": {},
   "source": [
    "### Tugas Sore"
   ]
  },
  {
   "cell_type": "markdown",
   "id": "d686ce9f",
   "metadata": {},
   "source": [
    "### 1. Write a method is divisible that takes two integers, m and n. The method returns True if m is divisible by n, and returns False otherwise.Misalkan: Jika, m = 2 dan n = 3, 2 tidak bisa dibagi 3. Berarti fungsi akan mereturn nilai False.Jika, m = 4 dan n = 2, 4 bisa dibagi 2. Berarti fungsi akan mereturn nilai True."
   ]
  },
  {
   "cell_type": "code",
   "execution_count": 69,
   "id": "0f03aeeb",
   "metadata": {},
   "outputs": [
    {
     "name": "stdout",
     "output_type": "stream",
     "text": [
      "Masukan angka: 6\n",
      "Masukan angka: 3\n",
      "True\n"
     ]
    }
   ],
   "source": [
    "def div(x,y):\n",
    "    if x % y == 0:\n",
    "        print(True)\n",
    "    else:\n",
    "        print(False)\n",
    "\n",
    "m = int(input(\"Masukan angka: \"))\n",
    "n = int(input(\"Masukan angka: \"))\n",
    "\n",
    "div(m,n)"
   ]
  },
  {
   "cell_type": "markdown",
   "id": "f3364edb",
   "metadata": {},
   "source": [
    "#### 2. Write a function that first displays a simple caf´e menu (see example below), asks the user to entercthe number of a choice, and either prints the appropriate action OR prints an error message thatctheir choice was not valid.Example output:"
   ]
  },
  {
   "cell_type": "code",
   "execution_count": 70,
   "id": "9b601586",
   "metadata": {},
   "outputs": [],
   "source": [
    "def menu():\n",
    "    print(\"1. Soup and salad \\n2. Pasta with meat sauce \\n3. Chef's special\")\n",
    "    choice = int(input(\"Which number would you like to order? \"))\n",
    "    if choice == 1:\n",
    "        print(\"One Soup&Salad coming right up!\")\n",
    "    elif choice == 2:\n",
    "        print(\"One Pasta with meat sauce coming right up!\")\n",
    "    elif choice == 3:\n",
    "        print(\"One Chef's special coming right up!\")\n",
    "    else:\n",
    "        print(\"Sorry, that is not a valid choice.\")"
   ]
  },
  {
   "cell_type": "code",
   "execution_count": 73,
   "id": "dd1cdd23",
   "metadata": {},
   "outputs": [
    {
     "name": "stdout",
     "output_type": "stream",
     "text": [
      "1. Soup and salad \n",
      "2. Pasta with meat sauce \n",
      "3. Chef's special\n",
      "Which number would you like to order? 3\n",
      "One Chef's special coming right up!\n"
     ]
    }
   ],
   "source": [
    "menu()"
   ]
  },
  {
   "cell_type": "markdown",
   "id": "43ce54a9",
   "metadata": {},
   "source": [
    "### 3. Write a method rand_divis_3 that takes no parameters and returns True if a number is divisible by 3, and False otherwise."
   ]
  },
  {
   "cell_type": "code",
   "execution_count": 79,
   "id": "b780e14e",
   "metadata": {},
   "outputs": [
    {
     "data": {
      "text/plain": [
       "False"
      ]
     },
     "execution_count": 79,
     "metadata": {},
     "output_type": "execute_result"
    }
   ],
   "source": [
    "def rand_divis_3():\n",
    "    x = int(80)\n",
    "    if x % 3 == 0:\n",
    "        return True\n",
    "    else:\n",
    "        return False\n",
    "    \n",
    "rand_divis_3()"
   ]
  },
  {
   "cell_type": "markdown",
   "id": "31747af0",
   "metadata": {},
   "source": [
    "### 4. Imagine that Python doesn’t have the != operator built in. Write a method not equal that takes two parameters and gives the same result as the != operator. Obviously, you cannot use != within your function! Test if your code works by thinking of examples and making sure the output is the same for your new method as != gives you."
   ]
  },
  {
   "cell_type": "code",
   "execution_count": 82,
   "id": "94e37511",
   "metadata": {},
   "outputs": [
    {
     "name": "stdout",
     "output_type": "stream",
     "text": [
      "False\n"
     ]
    }
   ],
   "source": [
    "def sama(x, y):\n",
    "    if x is not y:\n",
    "        print(True)\n",
    "    else:\n",
    "        print(False)\n",
    "\n",
    "sama(10, 10)"
   ]
  },
  {
   "cell_type": "markdown",
   "id": "fd63f8ec",
   "metadata": {},
   "source": [
    "### 5. What's wrong with this code?"
   ]
  },
  {
   "cell_type": "code",
   "execution_count": 75,
   "id": "44748172",
   "metadata": {},
   "outputs": [
    {
     "name": "stdout",
     "output_type": "stream",
     "text": [
      "Enter your name: Ganang Rizki Saputro\n",
      "Your name is: Ganang Rizki Saputro\n"
     ]
    }
   ],
   "source": [
    "def ask_name():\n",
    "    name = input(\"Enter your name: \")\n",
    "    print(\"Your name is:\", name)\n",
    "    \n",
    "ask_name()"
   ]
  }
 ],
 "metadata": {
  "kernelspec": {
   "display_name": "Python 3 (ipykernel)",
   "language": "python",
   "name": "python3"
  },
  "language_info": {
   "codemirror_mode": {
    "name": "ipython",
    "version": 3
   },
   "file_extension": ".py",
   "mimetype": "text/x-python",
   "name": "python",
   "nbconvert_exporter": "python",
   "pygments_lexer": "ipython3",
   "version": "3.9.7"
  }
 },
 "nbformat": 4,
 "nbformat_minor": 5
}
