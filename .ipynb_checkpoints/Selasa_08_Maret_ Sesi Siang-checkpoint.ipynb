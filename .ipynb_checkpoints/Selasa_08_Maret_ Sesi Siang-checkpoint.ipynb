{
 "cells": [
  {
   "cell_type": "markdown",
   "id": "3d556da3",
   "metadata": {},
   "source": [
    "# **Tugas Sesi Siang**"
   ]
  },
  {
   "cell_type": "code",
   "execution_count": 1,
   "id": "4907932f",
   "metadata": {},
   "outputs": [],
   "source": [
    "import numpy as np"
   ]
  },
  {
   "cell_type": "code",
   "execution_count": 20,
   "id": "d712adbc",
   "metadata": {},
   "outputs": [],
   "source": [
    "A = np.array([[1, 2], [7,8]])\n",
    "B = np.array([[3, 5], [1,6]])"
   ]
  },
  {
   "cell_type": "markdown",
   "id": "a554d178",
   "metadata": {},
   "source": [
    "Hitunglah:\n",
    "*   2*A\n",
    "*   2+A\n",
    "*   A+B\n",
    "*   A-B\n",
    "*   determinan A\n",
    "*   invers dari B, simpan jadi matriks D\n",
    "*   transpose D\n",
    "*   nilai eigen dan vektor eigen dari A dan B"
   ]
  },
  {
   "cell_type": "code",
   "execution_count": 3,
   "id": "9d370113",
   "metadata": {},
   "outputs": [
    {
     "name": "stdout",
     "output_type": "stream",
     "text": [
      "\n",
      "Hasil  Perkalian 2*A =\n",
      " [[ 2  4]\n",
      " [14 16]]\n",
      "\n",
      "Hasil  penjumlahan 2+A =\n",
      " [[ 3  4]\n",
      " [ 9 10]]\n",
      "\n",
      "Hasil  penjumlahan A+B =\n",
      " [[ 4  7]\n",
      " [ 8 14]]\n",
      "\n",
      "Hasil  pengurangan A-B =\n",
      " [[-2 -3]\n",
      " [ 6  2]]\n",
      "\n",
      "Hasil Determinan Matriks A =\n",
      " -6.0\n",
      "\n",
      "Hasil Invers Matriks D =\n",
      " [[ 0.46153846 -0.38461538]\n",
      " [-0.07692308  0.23076923]]\n"
     ]
    }
   ],
   "source": [
    "#Ketik Kode disini\n",
    "print(\"\\nHasil  Perkalian 2*A =\\n\",2*A)\n",
    "print(\"\\nHasil  penjumlahan 2+A =\\n\",2+A)\n",
    "print(\"\\nHasil  penjumlahan A+B =\\n\",A+B)\n",
    "print(\"\\nHasil  pengurangan A-B =\\n\",A-B)\n",
    "print(\"\\nHasil Determinan Matriks A =\\n\",np.linalg.det(A))\n",
    "print(\"\\nHasil Invers Matriks D =\\n\",np.linalg.inv(B))\n"
   ]
  },
  {
   "cell_type": "code",
   "execution_count": 4,
   "id": "0c8febc6",
   "metadata": {},
   "outputs": [
    {
     "name": "stdout",
     "output_type": "stream",
     "text": [
      "[[ 0.46153846 -0.38461538]\n",
      " [-0.07692308  0.23076923]]\n"
     ]
    }
   ],
   "source": [
    "D = print(np.linalg.inv(B))"
   ]
  },
  {
   "cell_type": "markdown",
   "id": "fea24257",
   "metadata": {},
   "source": [
    "# **Transpose**"
   ]
  },
  {
   "cell_type": "code",
   "execution_count": 5,
   "id": "31f241e8",
   "metadata": {},
   "outputs": [
    {
     "name": "stdout",
     "output_type": "stream",
     "text": [
      "[[ 0.46153846]\n",
      " [-0.38461538]\n",
      " [-0.07692308]\n",
      " [ 0.23076923]]\n"
     ]
    }
   ],
   "source": [
    "D = np.array([[ 0.46153846], [-0.38461538],[-0.07692308] , [0.23076923]])\n",
    "print(D)"
   ]
  },
  {
   "cell_type": "code",
   "execution_count": 6,
   "id": "23870e18",
   "metadata": {},
   "outputs": [
    {
     "name": "stdout",
     "output_type": "stream",
     "text": [
      "[[ 0.46153846]\n",
      " [-0.38461538]\n",
      " [-0.07692308]\n",
      " [ 0.23076923]]\n"
     ]
    }
   ],
   "source": [
    "print(D)"
   ]
  },
  {
   "cell_type": "code",
   "execution_count": 7,
   "id": "c47666d1",
   "metadata": {},
   "outputs": [],
   "source": [
    "D_t= D.T\n",
    "\n"
   ]
  },
  {
   "cell_type": "code",
   "execution_count": 8,
   "id": "28d8c377",
   "metadata": {},
   "outputs": [
    {
     "name": "stdout",
     "output_type": "stream",
     "text": [
      "Perkalian antar entry di B dan D = \n",
      "[[ 1.38461538 -1.92307692]\n",
      " [-0.07692308  1.38461538]]\n",
      "Perkalian matriks B dan D = \n",
      " [[ 1.00000000e+00  0.00000000e+00]\n",
      " [-5.55111512e-17  1.00000000e+00]]\n"
     ]
    }
   ],
   "source": [
    "#Tunjukkan bedanya di kodingan di bawah ini\n",
    "B = np.array([[3, 5], [1,6]])\n",
    "D= np.linalg.inv(B)\n",
    "\n",
    "#Perkalian antar entry di B dan D\n",
    "T= B*D\n",
    "print(\"Perkalian antar entry di B dan D = \")\n",
    "print(T)\n",
    "\n",
    "#Perkalian matrik B dan D\n",
    "print(\"Perkalian matriks B dan D = \\n\" ,np.matmul(B,D))"
   ]
  },
  {
   "cell_type": "markdown",
   "id": "5cdd2771",
   "metadata": {},
   "source": [
    "output jawaban:\n",
    "\n",
    "perkalian entry = [[ 1.38461538, -1.92307692], [-0.07692308, 1.38461538]]\n",
    "\n",
    "perkalian matriks = [[ 1.00000000e+00, -1.11022302e-16], [ 1.11022302e-16, 1.00000000e+00]]"
   ]
  },
  {
   "cell_type": "code",
   "execution_count": 9,
   "id": "9fedee32",
   "metadata": {},
   "outputs": [
    {
     "data": {
      "text/plain": [
       "(array([[ 0.46153846, -0.38461538],\n",
       "        [-0.07692308,  0.23076923]]),\n",
       " array([[ 0.46153846, -0.38461538, -0.07692308,  0.23076923]]))"
      ]
     },
     "execution_count": 9,
     "metadata": {},
     "output_type": "execute_result"
    }
   ],
   "source": [
    "D, D_t"
   ]
  },
  {
   "cell_type": "code",
   "execution_count": 10,
   "id": "bfee9660",
   "metadata": {},
   "outputs": [
    {
     "name": "stdout",
     "output_type": "stream",
     "text": [
      "\n",
      "Hasil Menghitung nilai eigen  A =\n"
     ]
    }
   ],
   "source": [
    "print(\"\\nHasil Menghitung nilai eigen  A =\")\n",
    "eign_val,eig_vecs = np.linalg.eig(A)"
   ]
  },
  {
   "cell_type": "code",
   "execution_count": 11,
   "id": "3d847b72",
   "metadata": {},
   "outputs": [
    {
     "data": {
      "text/plain": [
       "(array([-0.62347538,  9.62347538]),)"
      ]
     },
     "execution_count": 11,
     "metadata": {},
     "output_type": "execute_result"
    }
   ],
   "source": [
    "eign_val,"
   ]
  },
  {
   "cell_type": "code",
   "execution_count": 13,
   "id": "54d3ffc2",
   "metadata": {},
   "outputs": [
    {
     "name": "stdout",
     "output_type": "stream",
     "text": [
      "\n",
      "Hasil Menghitung nilai Vektor  A =\n"
     ]
    },
    {
     "data": {
      "text/plain": [
       "array([[-0.77640358, -0.22592838],\n",
       "       [ 0.63023605, -0.97414391]])"
      ]
     },
     "execution_count": 13,
     "metadata": {},
     "output_type": "execute_result"
    }
   ],
   "source": [
    "print(\"\\nHasil Menghitung nilai Vektor  A =\")\n",
    "eig_vecs"
   ]
  },
  {
   "cell_type": "code",
   "execution_count": 25,
   "id": "665f1fc4",
   "metadata": {},
   "outputs": [],
   "source": [
    "B = np.array([[3, 5], [1,6]])"
   ]
  },
  {
   "cell_type": "code",
   "execution_count": 28,
   "id": "aa8005df",
   "metadata": {},
   "outputs": [],
   "source": [
    "eig_val, eig_vecs=np.linalg.eig(B)"
   ]
  },
  {
   "cell_type": "code",
   "execution_count": 29,
   "id": "45dae121",
   "metadata": {},
   "outputs": [
    {
     "name": "stdout",
     "output_type": "stream",
     "text": [
      "\n",
      "Hasil Menghitung nilai eigen  B =\n"
     ]
    }
   ],
   "source": [
    "print(\"\\nHasil Menghitung nilai eigen  B =\")\n",
    "eign_val,eig_vecs = np.linalg.eig(B)"
   ]
  },
  {
   "cell_type": "code",
   "execution_count": 30,
   "id": "408f46fa",
   "metadata": {},
   "outputs": [
    {
     "name": "stdout",
     "output_type": "stream",
     "text": [
      "\n",
      "Hasil Menghitung nilai eigen  B =\n"
     ]
    },
    {
     "data": {
      "text/plain": [
       "array([1.8074176, 7.1925824])"
      ]
     },
     "execution_count": 30,
     "metadata": {},
     "output_type": "execute_result"
    }
   ],
   "source": [
    "print(\"\\nHasil Menghitung nilai eigen  B =\")\n",
    "eig_val"
   ]
  },
  {
   "cell_type": "code",
   "execution_count": 31,
   "id": "fa96f2ca",
   "metadata": {},
   "outputs": [
    {
     "data": {
      "text/plain": [
       "7.192582403567252"
      ]
     },
     "execution_count": 31,
     "metadata": {},
     "output_type": "execute_result"
    }
   ],
   "source": [
    "eig_val2=eig_val[1]\n",
    "eig_val2.real"
   ]
  },
  {
   "cell_type": "code",
   "execution_count": 32,
   "id": "735e2e05",
   "metadata": {},
   "outputs": [
    {
     "name": "stdout",
     "output_type": "stream",
     "text": [
      "\n",
      "Hasil Menghitung nilai Vektor  B =\n"
     ]
    },
    {
     "data": {
      "text/plain": [
       "array([[-0.97271381, -0.76626443],\n",
       "       [ 0.23200828, -0.64252535]])"
      ]
     },
     "execution_count": 32,
     "metadata": {},
     "output_type": "execute_result"
    }
   ],
   "source": [
    "print(\"\\nHasil Menghitung nilai Vektor  B =\")\n",
    "eig_vecs"
   ]
  },
  {
   "cell_type": "code",
   "execution_count": null,
   "id": "4cee6206",
   "metadata": {},
   "outputs": [],
   "source": []
  },
  {
   "cell_type": "code",
   "execution_count": null,
   "id": "86741515",
   "metadata": {},
   "outputs": [],
   "source": []
  }
 ],
 "metadata": {
  "kernelspec": {
   "display_name": "Python 3 (ipykernel)",
   "language": "python",
   "name": "python3"
  },
  "language_info": {
   "codemirror_mode": {
    "name": "ipython",
    "version": 3
   },
   "file_extension": ".py",
   "mimetype": "text/x-python",
   "name": "python",
   "nbconvert_exporter": "python",
   "pygments_lexer": "ipython3",
   "version": "3.9.7"
  }
 },
 "nbformat": 4,
 "nbformat_minor": 5
}
