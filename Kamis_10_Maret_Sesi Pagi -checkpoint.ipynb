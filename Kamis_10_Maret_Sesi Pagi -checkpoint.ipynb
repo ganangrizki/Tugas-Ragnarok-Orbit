{
 "cells": [
  {
   "cell_type": "markdown",
   "id": "dc25a764",
   "metadata": {},
   "source": [
    "## **Tugas Tambahan Sesi Pagi**"
   ]
  },
  {
   "cell_type": "markdown",
   "id": "ab61602e",
   "metadata": {},
   "source": [
    "# Latihan tambahan\n",
    "Coba bikin kesimpulan dari hasil p-value tersebut\n",
    "\n",
    "p-value = 1.0993 * 10^(-11) < 0.05 artinya: Ho ditolak berarti ada perbedaan yang signifikan untuk kualitas di antar wilayah\n",
    "\n",
    "Misalkan kamu adalah data scientist di gojek. Kamu ingin mengetahui apakah kemacetan mempengaruhi tingkat kepuasan pelanggan. Jadi kamu ingin memebandingkan nilai \"bintang\" dari customer saat dia order di jam macet dan tidak macet.\n",
    "(#hint = data dari customer yang sama)\n",
    "\n",
    "macet = [2, 3, 5, 4, 5, 4, 4, 3, 4, 3, 4, 5, 4, 5, 4, 3, 4, 3, 3, 5, 4, 3, 4, 3, 4, 3, 4, 4, 5]\n",
    "\n",
    "tidak_macet = [2, 2, 4, 5, 4, 3, 3, 3, 3, 3, 3, 4, 4, 5, 4, 3, 3, 2, 3, 4, 4, 3, 3, 3, 4, 3, 4, 3, 4]\n",
    "\n",
    "1. Buat hipotesisnya\n",
    "2. Lakukan uji asumsi normalitasnya\n",
    "3. Jika datanya normal lakukan uji parametrik, jika tidak berdistribusi normal lakukan uji nonparametrik\n",
    "4. Apa kesimpulan uji hipotesisnya?"
   ]
  },
  {
   "cell_type": "code",
   "execution_count": 3,
   "id": "48aac912",
   "metadata": {},
   "outputs": [],
   "source": [
    "import matplotlib.pyplot as plt\n",
    "import pandas as pd\n",
    "import seaborn as sns\n",
    "import numpy as np\n",
    "from scipy import stats"
   ]
  },
  {
   "cell_type": "code",
   "execution_count": 4,
   "id": "43709f9e",
   "metadata": {},
   "outputs": [],
   "source": [
    "macet = [2, 3, 5, 4, 5, 4, 4, 3, 4, 3, 4, 5, 4, 5, 4, 3, 4, 3, 3, 5, 4, 3, 4, 3, 4, 3, 4, 4, 5]\n",
    "\n",
    "tidak_macet = [2, 2, 4, 5, 4, 3, 3, 3, 3, 3, 3, 4, 4, 5, 4, 3, 3, 2, 3, 4, 4, 3, 3, 3, 4, 3, 4, 3, 4]\n"
   ]
  },
  {
   "cell_type": "code",
   "execution_count": 5,
   "id": "83c0057d",
   "metadata": {},
   "outputs": [
    {
     "data": {
      "text/plain": [
       "29"
      ]
     },
     "execution_count": 5,
     "metadata": {},
     "output_type": "execute_result"
    }
   ],
   "source": [
    "len(macet)"
   ]
  },
  {
   "cell_type": "code",
   "execution_count": 6,
   "id": "c58f68e3",
   "metadata": {},
   "outputs": [
    {
     "data": {
      "text/plain": [
       "29"
      ]
     },
     "execution_count": 6,
     "metadata": {},
     "output_type": "execute_result"
    }
   ],
   "source": [
    "len(tidak_macet)"
   ]
  },
  {
   "cell_type": "code",
   "execution_count": 8,
   "id": "e82c6f10",
   "metadata": {},
   "outputs": [
    {
     "name": "stderr",
     "output_type": "stream",
     "text": [
      "C:\\ProgramData\\Anaconda3\\lib\\site-packages\\seaborn\\distributions.py:2619: FutureWarning: `distplot` is a deprecated function and will be removed in a future version. Please adapt your code to use either `displot` (a figure-level function with similar flexibility) or `histplot` (an axes-level function for histograms).\n",
      "  warnings.warn(msg, FutureWarning)\n"
     ]
    },
    {
     "data": {
      "text/plain": [
       "Text(0.5, 1.0, 'Macet')"
      ]
     },
     "execution_count": 8,
     "metadata": {},
     "output_type": "execute_result"
    },
    {
     "data": {
      "image/png": "[encoded data removed]",
      "text/plain": [
       "<Figure size 432x288 with 1 Axes>"
      ]
     },
     "metadata": {
      "needs_background": "light"
     },
     "output_type": "display_data"
    }
   ],
   "source": [
    "#1. Buat hipotesisnya\n",
    "#2. Lakukan uji asumsi normalitasnya\n",
    "sns.distplot(macet)\n",
    "plt.title(\"Macet\")"
   ]
  },
  {
   "cell_type": "code",
   "execution_count": 9,
   "id": "49db4d9e",
   "metadata": {},
   "outputs": [
    {
     "name": "stderr",
     "output_type": "stream",
     "text": [
      "C:\\ProgramData\\Anaconda3\\lib\\site-packages\\seaborn\\distributions.py:2619: FutureWarning: `distplot` is a deprecated function and will be removed in a future version. Please adapt your code to use either `displot` (a figure-level function with similar flexibility) or `histplot` (an axes-level function for histograms).\n",
      "  warnings.warn(msg, FutureWarning)\n"
     ]
    },
    {
     "data": {
      "text/plain": [
       "Text(0.5, 1.0, 'Tidak_Macet')"
      ]
     },
     "execution_count": 9,
     "metadata": {},
     "output_type": "execute_result"
    },
    {
     "data": {
      "image/png": "[encoded data removed]",
      "text/plain": [
       "<Figure size 432x288 with 1 Axes>"
      ]
     },
     "metadata": {
      "needs_background": "light"
     },
     "output_type": "display_data"
    }
   ],
   "source": [
    "sns.distplot(tidak_macet)\n",
    "plt.title(\"Tidak_Macet\")"
   ]
  },
  {
   "cell_type": "code",
   "execution_count": 10,
   "id": "daa669d5",
   "metadata": {},
   "outputs": [
    {
     "name": "stdout",
     "output_type": "stream",
     "text": [
      "uji kolmogorov smirnov data A =  KstestResult(statistic=0.2414618941043637, pvalue=0.05668522245349683)\n",
      "uji kolmogorov smirnov data B =  KstestResult(statistic=0.2769460572882385, pvalue=0.018550502658514323)\n"
     ]
    }
   ],
   "source": [
    "#Uji Kolmogorov-Smirnov\n",
    "#Type your code here\n",
    "z_score_macet = stats.zscore(macet)\n",
    "z_score_tidak_macet = stats.zscore(tidak_macet)\n",
    "print('uji kolmogorov smirnov data A = ', stats.kstest(z_score_macet, \"norm\"))\n",
    "print('uji kolmogorov smirnov data B = ', stats.kstest(z_score_tidak_macet, \"norm\"))"
   ]
  },
  {
   "cell_type": "markdown",
   "id": "4830920a",
   "metadata": {},
   "source": [
    "# alpha=0,05\n",
    " # data macet pvalue=0.0566(>0,05) berarti Ho diterima (datanya berdistribusi normal.)\n",
    "# data tidak_macet pvalue=0.0185(<0,05) berarti H1 ditolak(datanya berdistribusi tidak normal)"
   ]
  },
  {
   "cell_type": "code",
   "execution_count": 11,
   "id": "5e22d7a7",
   "metadata": {},
   "outputs": [
    {
     "data": {
      "text/plain": [
       "KruskalResult(statistic=4.330554079959359, pvalue=0.03743405824475144)"
      ]
     },
     "execution_count": 11,
     "metadata": {},
     "output_type": "execute_result"
    }
   ],
   "source": [
    "#3. Jika datanya normal lakukan uji parametrik, jika tidak berdistribusi normal lakukan uji nonparametrik\n",
    "stats.kruskal(macet, tidak_macet)\n"
   ]
  },
  {
   "cell_type": "markdown",
   "id": "d072c50c",
   "metadata": {},
   "source": [
    "# 4 Kesimpulan\n",
    " pvalue=0.03743405824475144 <(alpha) berati Ho ditolak, jadi kemacetan tidak mempengaruhi kepuasan pelanggan."
   ]
  },
  {
   "cell_type": "code",
   "execution_count": null,
   "id": "9db1df94",
   "metadata": {},
   "outputs": [],
   "source": []
  }
 ],
 "metadata": {
  "kernelspec": {
   "display_name": "Python 3 (ipykernel)",
   "language": "python",
   "name": "python3"
  },
  "language_info": {
   "codemirror_mode": {
    "name": "ipython",
    "version": 3
   },
   "file_extension": ".py",
   "mimetype": "text/x-python",
   "name": "python",
   "nbconvert_exporter": "python",
   "pygments_lexer": "ipython3",
   "version": "3.9.7"
  }
 },
 "nbformat": 4,
 "nbformat_minor": 5
}
