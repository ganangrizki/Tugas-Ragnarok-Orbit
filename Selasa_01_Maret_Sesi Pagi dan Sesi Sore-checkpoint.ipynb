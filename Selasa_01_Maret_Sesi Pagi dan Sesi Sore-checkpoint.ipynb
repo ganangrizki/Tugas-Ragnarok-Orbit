{
 "cells": [
  {
   "cell_type": "markdown",
   "id": "b36a85dd",
   "metadata": {},
   "source": [
    "# Tugas Pagi\n"
   ]
  },
  {
   "cell_type": "code",
   "execution_count": 1,
   "id": "255b554d",
   "metadata": {},
   "outputs": [],
   "source": [
    "##Coba coba"
   ]
  },
  {
   "cell_type": "code",
   "execution_count": 2,
   "id": "c86d60a0",
   "metadata": {},
   "outputs": [
    {
     "name": "stdout",
     "output_type": "stream",
     "text": [
      "Hello world\n"
     ]
    }
   ],
   "source": [
    "#Ini adalah untuk mengetik hello word\n",
    "print(\"Hello world\")"
   ]
  },
  {
   "cell_type": "code",
   "execution_count": 3,
   "id": "89e51b52",
   "metadata": {},
   "outputs": [],
   "source": [
    "angka =20"
   ]
  },
  {
   "cell_type": "code",
   "execution_count": 4,
   "id": "7c6dd221",
   "metadata": {},
   "outputs": [
    {
     "name": "stdout",
     "output_type": "stream",
     "text": [
      "20\n"
     ]
    }
   ],
   "source": [
    "print(angka)"
   ]
  },
  {
   "cell_type": "code",
   "execution_count": 5,
   "id": "47806c69",
   "metadata": {},
   "outputs": [
    {
     "data": {
      "text/plain": [
       "int"
      ]
     },
     "execution_count": 5,
     "metadata": {},
     "output_type": "execute_result"
    }
   ],
   "source": [
    "type(angka)"
   ]
  },
  {
   "cell_type": "code",
   "execution_count": 6,
   "id": "8cf7ec7e",
   "metadata": {},
   "outputs": [],
   "source": [
    "angka = \"Dua puluh\""
   ]
  },
  {
   "cell_type": "code",
   "execution_count": 7,
   "id": "dbaa2a61",
   "metadata": {},
   "outputs": [
    {
     "data": {
      "text/plain": [
       "str"
      ]
     },
     "execution_count": 7,
     "metadata": {},
     "output_type": "execute_result"
    }
   ],
   "source": [
    "type(angka)"
   ]
  },
  {
   "cell_type": "code",
   "execution_count": 8,
   "id": "bd109b2a",
   "metadata": {},
   "outputs": [
    {
     "name": "stdout",
     "output_type": "stream",
     "text": [
      "hello\n"
     ]
    }
   ],
   "source": [
    "#single word\n",
    "print('hello')"
   ]
  },
  {
   "cell_type": "code",
   "execution_count": 11,
   "id": "a82f4c8b",
   "metadata": {
    "scrolled": true
   },
   "outputs": [
    {
     "name": "stdout",
     "output_type": "stream",
     "text": [
      "hello\n",
      "\n",
      "This is also a string\n"
     ]
    }
   ],
   "source": [
    "#To create a string in Python you need to use either single quotes or double quotes.For example:\n",
    "# Single word\n",
    "print('hello')\n",
    "print() # Used to have a line space between two sentences.\n",
    "#Try deleting this line & seeing the difference.\n",
    "print(\"This is also a string\")"
   ]
  },
  {
   "cell_type": "markdown",
   "id": "f492e7bc",
   "metadata": {},
   "source": [
    "### Store value in string"
   ]
  },
  {
   "cell_type": "markdown",
   "id": "87ed6d22",
   "metadata": {},
   "source": [
    "In the code below we begin to explore how we can use a variable to which a string can be assigned.This can be extremely useful in many cases, where you can call the variable instead of typing the string everytime.This not only makes our code clean but it also makes it less redundant. Example syntax to assign a value or expression to a variable,variable_name = value or expression\n",
    "Now let's get coding!!. With the below block of code showing how to assign a string to variable."
   ]
  },
  {
   "cell_type": "code",
   "execution_count": 14,
   "id": "1ca4dde6",
   "metadata": {},
   "outputs": [
    {
     "name": "stdout",
     "output_type": "stream",
     "text": [
      "New York\n",
      "<class 'str'>\n",
      "8\n"
     ]
    }
   ],
   "source": [
    "S = 'New York'\n",
    "print(S)\n",
    "print(type(S))\n",
    "print(len(S)) # what's the string length"
   ]
  },
  {
   "cell_type": "markdown",
   "id": "05db882b",
   "metadata": {},
   "source": [
    "### string Indexing\n"
   ]
  },
  {
   "cell_type": "markdown",
   "id": "37b2e2b0",
   "metadata": {},
   "source": [
    "We know strings are a sequence, which means Python can use indexes to call parts of the sequence. Let's learn how this works.In Python, we use brackets [] after an object to call its index. We should also note that indexing starts at 0 for Python. Let's create a new object called s and the walk through a few examples of indexing."
   ]
  },
  {
   "cell_type": "code",
   "execution_count": 18,
   "id": "83fc61e1",
   "metadata": {},
   "outputs": [
    {
     "name": "stdout",
     "output_type": "stream",
     "text": [
      "Hello World\n"
     ]
    }
   ],
   "source": [
    "# Assign s as a string\n",
    "s = 'Hello World'\n",
    "\n",
    "# Print the object\n",
    "print(s)\n",
    "\n"
   ]
  },
  {
   "cell_type": "code",
   "execution_count": 19,
   "id": "9b1860e4",
   "metadata": {},
   "outputs": [
    {
     "name": "stdout",
     "output_type": "stream",
     "text": [
      "H\n"
     ]
    }
   ],
   "source": [
    "# Show first element (in this case a letter)\n",
    "print(s[0])"
   ]
  },
  {
   "cell_type": "code",
   "execution_count": 20,
   "id": "e5b15ffe",
   "metadata": {},
   "outputs": [
    {
     "name": "stdout",
     "output_type": "stream",
     "text": [
      "e\n"
     ]
    }
   ],
   "source": [
    "# Show the second element (also a letter)\n",
    "print(s[1])"
   ]
  },
  {
   "cell_type": "code",
   "execution_count": 21,
   "id": "80b7e8ad",
   "metadata": {},
   "outputs": [
    {
     "name": "stdout",
     "output_type": "stream",
     "text": [
      " \n"
     ]
    }
   ],
   "source": [
    "print(s[5])"
   ]
  },
  {
   "cell_type": "code",
   "execution_count": 22,
   "id": "fbbd824b",
   "metadata": {},
   "outputs": [
    {
     "name": "stdout",
     "output_type": "stream",
     "text": [
      "W\n"
     ]
    }
   ],
   "source": [
    "print(s[6])"
   ]
  },
  {
   "cell_type": "code",
   "execution_count": 25,
   "id": "4bd08ad0",
   "metadata": {},
   "outputs": [
    {
     "name": "stdout",
     "output_type": "stream",
     "text": [
      "Hello World\n",
      "\n",
      "H\n",
      "\n",
      "e\n",
      "\n"
     ]
    }
   ],
   "source": [
    "print(s) \n",
    "print()\n",
    "print(s[0])\n",
    "print()\n",
    "print(s[1])\n",
    "print()"
   ]
  },
  {
   "cell_type": "markdown",
   "id": "557c3bae",
   "metadata": {},
   "source": [
    "# String Concatenation and Repetition\n",
    "String Concatenation is a process to combine two strings. It is done using the '+' operator.\n",
    "String Repetition is a process of repeating a same string multiple times\n",
    "The examples of the above concepts is as follows."
   ]
  },
  {
   "cell_type": "code",
   "execution_count": 29,
   "id": "3142eeb9",
   "metadata": {},
   "outputs": [
    {
     "name": "stdout",
     "output_type": "stream",
     "text": [
      "Hello WorldSelamat pagi20\n"
     ]
    }
   ],
   "source": [
    "# concatenation (addition)\n",
    "s1 = 'Hello'\n",
    "s2 = \"World\"\n",
    "print(s1 + \" \" + s2+\"Selamat pagi\"+str(20))"
   ]
  },
  {
   "cell_type": "code",
   "execution_count": 30,
   "id": "1519f1f0",
   "metadata": {},
   "outputs": [
    {
     "name": "stdout",
     "output_type": "stream",
     "text": [
      "Hello_Hello_Hello_\n",
      "----------\n"
     ]
    }
   ],
   "source": [
    "# repetition (multiplication)\n",
    "print(\"Hello_\" * 3)\n",
    "print(\"-\" * 10)"
   ]
  },
  {
   "cell_type": "code",
   "execution_count": 32,
   "id": "27cd180d",
   "metadata": {},
   "outputs": [
    {
     "name": "stdout",
     "output_type": "stream",
     "text": [
      "lllllllllld\n"
     ]
    }
   ],
   "source": [
    "print((s1[3]*10)+s2[4])"
   ]
  },
  {
   "cell_type": "markdown",
   "id": "da0d0d94",
   "metadata": {},
   "source": [
    "# String Slicing & Indexing"
   ]
  },
  {
   "cell_type": "markdown",
   "id": "74dc0004",
   "metadata": {},
   "source": [
    "String Slicing is a process to select a subset of an entire string "
   ]
  },
  {
   "cell_type": "code",
   "execution_count": 38,
   "id": "aac87afa",
   "metadata": {},
   "outputs": [
    {
     "name": "stdout",
     "output_type": "stream",
     "text": [
      "a\n"
     ]
    }
   ],
   "source": [
    "s = \"Namaste World\"\n",
    "# print sub strings\n",
    "print(s[1]) #This is indexing.\n"
   ]
  },
  {
   "cell_type": "code",
   "execution_count": 39,
   "id": "53b0f18d",
   "metadata": {},
   "outputs": [
    {
     "name": "stdout",
     "output_type": "stream",
     "text": [
      "eWr\n"
     ]
    }
   ],
   "source": [
    "#silicing syntax : variabel_name[start : end] -> slice from start to end -1\n",
    "#silicing syntax_2 : variabel_name[start : end: step]-> slice from start to end -1 with step(default)\n",
    "print(s[6 : 11 : 2])#This is know as slicing."
   ]
  },
  {
   "cell_type": "code",
   "execution_count": 40,
   "id": "f915cb45",
   "metadata": {},
   "outputs": [
    {
     "name": "stdout",
     "output_type": "stream",
     "text": [
      "e Wor\n"
     ]
    }
   ],
   "source": [
    "print(s[6:11]) #This is known as slicing."
   ]
  },
  {
   "cell_type": "code",
   "execution_count": 41,
   "id": "94c794df",
   "metadata": {},
   "outputs": [
    {
     "name": "stdout",
     "output_type": "stream",
     "text": [
      "Worl\n"
     ]
    }
   ],
   "source": [
    "print(s[-5:-1])"
   ]
  },
  {
   "cell_type": "code",
   "execution_count": 42,
   "id": "8978687a",
   "metadata": {},
   "outputs": [
    {
     "name": "stdout",
     "output_type": "stream",
     "text": [
      "e Wor\n"
     ]
    }
   ],
   "source": [
    "print(s[-7:-2])"
   ]
  },
  {
   "cell_type": "markdown",
   "id": "bd6fed69",
   "metadata": {},
   "source": [
    "# Basic Built-in String methods"
   ]
  },
  {
   "cell_type": "markdown",
   "id": "ec6be3f5",
   "metadata": {},
   "source": [
    "Objects in Python usually have built-in methods. These methods are functions inside the \n",
    "object (we will learn about these in much more depth later) that can perform actions or \n",
    "commands on the object itself.\n",
    "We call methods with a period and then the method name. Methods are in the form:\n",
    "object.method(parameters)\n",
    "Where parameters are extra arguments we can pass into the method. Don't worry if the \n",
    "details don't make 100% sense right now.\n",
    "Later on we will be creating our own objects and functions! \n",
    "Here are some examples of built-in methods in strings:"
   ]
  },
  {
   "cell_type": "code",
   "execution_count": 46,
   "id": "37a0482e",
   "metadata": {},
   "outputs": [
    {
     "name": "stdout",
     "output_type": "stream",
     "text": [
      "HELLO WORLD\n"
     ]
    }
   ],
   "source": [
    "s = \"Hello World\"\n",
    "print(s.upper()) ## Convert all the element of the string to Upper case..!!"
   ]
  },
  {
   "cell_type": "code",
   "execution_count": 47,
   "id": "ac908aa2",
   "metadata": {},
   "outputs": [
    {
     "name": "stdout",
     "output_type": "stream",
     "text": [
      "hello world\n"
     ]
    }
   ],
   "source": [
    "print(s.lower()) ## Convert all the element of the string to Lower case..!!"
   ]
  },
  {
   "cell_type": "code",
   "execution_count": 48,
   "id": "03a29108",
   "metadata": {},
   "outputs": [],
   "source": [
    "s3 = \"12341\""
   ]
  },
  {
   "cell_type": "code",
   "execution_count": 49,
   "id": "ed1fe402",
   "metadata": {},
   "outputs": [
    {
     "data": {
      "text/plain": [
       "True"
      ]
     },
     "execution_count": 49,
     "metadata": {},
     "output_type": "execute_result"
    }
   ],
   "source": [
    "s3.isnumeric()"
   ]
  },
  {
   "cell_type": "code",
   "execution_count": 50,
   "id": "c1005cab",
   "metadata": {},
   "outputs": [
    {
     "data": {
      "text/plain": [
       "False"
      ]
     },
     "execution_count": 50,
     "metadata": {},
     "output_type": "execute_result"
    }
   ],
   "source": [
    "s3=\"1a\"\n",
    "s3.isnumeric()"
   ]
  },
  {
   "cell_type": "markdown",
   "id": "55b5335d",
   "metadata": {},
   "source": [
    "# Print Formating"
   ]
  },
  {
   "cell_type": "markdown",
   "id": "5d7c5b65",
   "metadata": {},
   "source": [
    "We can use the .format() method to add formatted objects to printed string statements. The easiest way to show this is through an example:"
   ]
  },
  {
   "cell_type": "code",
   "execution_count": 53,
   "id": "d58c5c4e",
   "metadata": {},
   "outputs": [],
   "source": [
    "name = \"Einstein\"\n",
    "age = 22\n",
    "married = True\n"
   ]
  },
  {
   "cell_type": "code",
   "execution_count": 54,
   "id": "8507e31d",
   "metadata": {},
   "outputs": [
    {
     "name": "stdout",
     "output_type": "stream",
     "text": [
      "My name is Einstein My age is 22 I am married\n"
     ]
    }
   ],
   "source": [
    "#Cara 1\n",
    "print(\"My name is\",name,\"My age is\", age,\"I am married\")"
   ]
  },
  {
   "cell_type": "code",
   "execution_count": 56,
   "id": "5093849d",
   "metadata": {},
   "outputs": [
    {
     "name": "stdout",
     "output_type": "stream",
     "text": [
      "My name is Einstein, my age is 22, and it is True that I am married\n"
     ]
    }
   ],
   "source": [
    "#Cara 2\n",
    "print(\"My name is %s, my age is %s, and it is %s that I am married\"%(name, age, married))"
   ]
  },
  {
   "cell_type": "code",
   "execution_count": 57,
   "id": "cc2f4812",
   "metadata": {},
   "outputs": [
    {
     "name": "stdout",
     "output_type": "stream",
     "text": [
      "My name is Einstein, my age is 22, and it is True that I am married\n"
     ]
    }
   ],
   "source": [
    "#Cara 3\n",
    "print(\"My name is {}, my age is {}, and it is {} that I am married\".format(name, age, married))"
   ]
  },
  {
   "cell_type": "markdown",
   "id": "2eaa84f2",
   "metadata": {},
   "source": [
    "# Numbers"
   ]
  },
  {
   "cell_type": "markdown",
   "id": "65a0e5df",
   "metadata": {},
   "source": [
    "Basic Arimatika"
   ]
  },
  {
   "cell_type": "code",
   "execution_count": 58,
   "id": "a8e1d8c4",
   "metadata": {},
   "outputs": [
    {
     "name": "stdout",
     "output_type": "stream",
     "text": [
      "10\n"
     ]
    }
   ],
   "source": [
    "a = 6\n",
    "b= 4\n",
    "print(a+b)"
   ]
  },
  {
   "cell_type": "code",
   "execution_count": 59,
   "id": "b4ca2a00",
   "metadata": {},
   "outputs": [
    {
     "name": "stdout",
     "output_type": "stream",
     "text": [
      "2\n"
     ]
    }
   ],
   "source": [
    "print(a-b)"
   ]
  },
  {
   "cell_type": "code",
   "execution_count": 60,
   "id": "4072d5d9",
   "metadata": {},
   "outputs": [
    {
     "name": "stdout",
     "output_type": "stream",
     "text": [
      "18\n"
     ]
    }
   ],
   "source": [
    "print(a*3)"
   ]
  },
  {
   "cell_type": "code",
   "execution_count": 61,
   "id": "a81d3607",
   "metadata": {},
   "outputs": [
    {
     "data": {
      "text/plain": [
       "1296"
      ]
     },
     "execution_count": 61,
     "metadata": {},
     "output_type": "execute_result"
    }
   ],
   "source": [
    "a**b"
   ]
  },
  {
   "cell_type": "markdown",
   "id": "77a99174",
   "metadata": {},
   "source": [
    "# Tugas Sore"
   ]
  },
  {
   "cell_type": "markdown",
   "id": "6f4b93f1",
   "metadata": {},
   "source": [
    "# Data Types & Data Structures"
   ]
  },
  {
   "cell_type": "markdown",
   "id": "ba9850a1",
   "metadata": {},
   "source": [
    "## Identifying Data Types"
   ]
  },
  {
   "cell_type": "code",
   "execution_count": 67,
   "id": "61f7c964",
   "metadata": {},
   "outputs": [
    {
     "name": "stdout",
     "output_type": "stream",
     "text": [
      "45 <class 'int'>\n",
      "30.5 <class 'float'>\n"
     ]
    }
   ],
   "source": [
    "a = 45\n",
    "b = 30.5\n",
    "\n",
    "print(a,type(a))#gets type of a\n",
    "print(b,type(b))#gets type of b\n"
   ]
  },
  {
   "cell_type": "code",
   "execution_count": 68,
   "id": "0857123b",
   "metadata": {},
   "outputs": [
    {
     "name": "stdout",
     "output_type": "stream",
     "text": [
      "(5+8j) <class 'complex'>\n"
     ]
    }
   ],
   "source": [
    "b=5+8j\n",
    "print(b,type(b))"
   ]
  },
  {
   "cell_type": "code",
   "execution_count": 69,
   "id": "7a40f12f",
   "metadata": {},
   "outputs": [
    {
     "name": "stdout",
     "output_type": "stream",
     "text": [
      "True False\n"
     ]
    }
   ],
   "source": [
    "boolean1=True\n",
    "boolean2=False\n",
    "print(boolean1,boolean2)"
   ]
  },
  {
   "cell_type": "code",
   "execution_count": 70,
   "id": "ed06dd50",
   "metadata": {},
   "outputs": [
    {
     "name": "stdout",
     "output_type": "stream",
     "text": [
      "<class 'bool'> <class 'bool'>\n"
     ]
    }
   ],
   "source": [
    "print(type(boolean1),type(boolean2))"
   ]
  },
  {
   "cell_type": "markdown",
   "id": "6e899733",
   "metadata": {},
   "source": [
    "# List"
   ]
  },
  {
   "cell_type": "code",
   "execution_count": 81,
   "id": "c6403844",
   "metadata": {},
   "outputs": [],
   "source": [
    "mylist =['abcd',786,2.23,'john',70.2]\n",
    "tinylist=[1,6,7,8]"
   ]
  },
  {
   "cell_type": "code",
   "execution_count": 73,
   "id": "b84eccd7",
   "metadata": {},
   "outputs": [
    {
     "name": "stdout",
     "output_type": "stream",
     "text": [
      "['abcd', 786, 2.23, 'john', 70.2] <class 'list'>\n"
     ]
    }
   ],
   "source": [
    "print(mylist, type(mylist))"
   ]
  },
  {
   "cell_type": "code",
   "execution_count": 74,
   "id": "c9ad590c",
   "metadata": {},
   "outputs": [
    {
     "name": "stdout",
     "output_type": "stream",
     "text": [
      "5\n"
     ]
    }
   ],
   "source": [
    "print(len(mylist))"
   ]
  },
  {
   "cell_type": "code",
   "execution_count": 75,
   "id": "25f51275",
   "metadata": {},
   "outputs": [
    {
     "data": {
      "text/plain": [
       "2.23"
      ]
     },
     "execution_count": 75,
     "metadata": {},
     "output_type": "execute_result"
    }
   ],
   "source": [
    "mylist[2]"
   ]
  },
  {
   "cell_type": "code",
   "execution_count": 76,
   "id": "c37ad200",
   "metadata": {},
   "outputs": [
    {
     "data": {
      "text/plain": [
       "[2.23, 'john']"
      ]
     },
     "execution_count": 76,
     "metadata": {},
     "output_type": "execute_result"
    }
   ],
   "source": [
    "mylist[2:4]"
   ]
  },
  {
   "cell_type": "code",
   "execution_count": 77,
   "id": "0cf423cf",
   "metadata": {},
   "outputs": [
    {
     "data": {
      "text/plain": [
       "[786, 'john']"
      ]
     },
     "execution_count": 77,
     "metadata": {},
     "output_type": "execute_result"
    }
   ],
   "source": [
    "mylist[1:5:2]"
   ]
  },
  {
   "cell_type": "code",
   "execution_count": 78,
   "id": "dc343b14",
   "metadata": {},
   "outputs": [
    {
     "data": {
      "text/plain": [
       "2.23"
      ]
     },
     "execution_count": 78,
     "metadata": {},
     "output_type": "execute_result"
    }
   ],
   "source": [
    "mylist[-3]"
   ]
  },
  {
   "cell_type": "code",
   "execution_count": 80,
   "id": "c597edd5",
   "metadata": {},
   "outputs": [
    {
     "data": {
      "text/plain": [
       "'abcd'"
      ]
     },
     "execution_count": 80,
     "metadata": {},
     "output_type": "execute_result"
    }
   ],
   "source": [
    "mylist[-5]"
   ]
  },
  {
   "cell_type": "code",
   "execution_count": 82,
   "id": "53959a73",
   "metadata": {},
   "outputs": [],
   "source": [
    "newlist = tinylist+mylist"
   ]
  },
  {
   "cell_type": "code",
   "execution_count": 83,
   "id": "b2df0018",
   "metadata": {},
   "outputs": [
    {
     "name": "stdout",
     "output_type": "stream",
     "text": [
      "[1, 6, 7, 8, 'abcd', 786, 2.23, 'john', 70.2]\n"
     ]
    }
   ],
   "source": [
    "print(newlist)"
   ]
  },
  {
   "cell_type": "code",
   "execution_count": 84,
   "id": "10b5794d",
   "metadata": {},
   "outputs": [
    {
     "name": "stdout",
     "output_type": "stream",
     "text": [
      "['abcd', 786, 2.23, 'john', 70.2, 'abcd', 786, 2.23, 'john', 70.2, 'abcd', 786, 2.23, 'john', 70.2]\n"
     ]
    }
   ],
   "source": [
    "print(mylist*3)"
   ]
  },
  {
   "cell_type": "code",
   "execution_count": 85,
   "id": "b7ab204c",
   "metadata": {},
   "outputs": [],
   "source": [
    "mylist.append('Mikey') #Add element on the last"
   ]
  },
  {
   "cell_type": "code",
   "execution_count": 86,
   "id": "dcf0d52f",
   "metadata": {},
   "outputs": [
    {
     "data": {
      "text/plain": [
       "['abcd', 786, 2.23, 'john', 70.2, 'Mikey']"
      ]
     },
     "execution_count": 86,
     "metadata": {},
     "output_type": "execute_result"
    }
   ],
   "source": [
    "mylist"
   ]
  },
  {
   "cell_type": "code",
   "execution_count": 87,
   "id": "eddf8283",
   "metadata": {},
   "outputs": [
    {
     "data": {
      "text/plain": [
       "['abcd', 786, 412, 2.23, 'john', 70.2, 'Mikey']"
      ]
     },
     "execution_count": 87,
     "metadata": {},
     "output_type": "execute_result"
    }
   ],
   "source": [
    "mylist.insert(2,412)#Add element on the spesific index(location)\n",
    "mylist"
   ]
  },
  {
   "cell_type": "markdown",
   "id": "6fd085e5",
   "metadata": {},
   "source": [
    "### List Remove Vs Pop"
   ]
  },
  {
   "cell_type": "code",
   "execution_count": 88,
   "id": "3595e0cd",
   "metadata": {},
   "outputs": [
    {
     "data": {
      "text/plain": [
       "['abcd', 786, 2.23, 'john', 70.2, 'Mikey']"
      ]
     },
     "execution_count": 88,
     "metadata": {},
     "output_type": "execute_result"
    }
   ],
   "source": [
    "mylist.remove(412) #Delete element based on value\n",
    "mylist"
   ]
  },
  {
   "cell_type": "code",
   "execution_count": 89,
   "id": "8cc21f6b",
   "metadata": {},
   "outputs": [
    {
     "data": {
      "text/plain": [
       "['abcd', 786, 2.23, 70.2, 'Mikey']"
      ]
     },
     "execution_count": 89,
     "metadata": {},
     "output_type": "execute_result"
    }
   ],
   "source": [
    "mylist.pop(3)#Delete element based on the index\n",
    "mylist"
   ]
  },
  {
   "cell_type": "code",
   "execution_count": 90,
   "id": "a770cd24",
   "metadata": {},
   "outputs": [
    {
     "data": {
      "text/plain": [
       "['abcd', 786, 2.23, 70.2]"
      ]
     },
     "execution_count": 90,
     "metadata": {},
     "output_type": "execute_result"
    }
   ],
   "source": [
    "mylist.pop()#Delete element on the last postition\n",
    "mylist"
   ]
  },
  {
   "cell_type": "markdown",
   "id": "6983e5f5",
   "metadata": {},
   "source": [
    "# List Iterable"
   ]
  },
  {
   "cell_type": "code",
   "execution_count": 91,
   "id": "7e248559",
   "metadata": {},
   "outputs": [
    {
     "name": "stdout",
     "output_type": "stream",
     "text": [
      "abcd\n",
      "786\n",
      "2.23\n",
      "70.2\n"
     ]
    }
   ],
   "source": [
    "for element in mylist:\n",
    "    print(element)"
   ]
  },
  {
   "cell_type": "markdown",
   "id": "8ce4d06c",
   "metadata": {},
   "source": [
    "# Tuple"
   ]
  },
  {
   "cell_type": "code",
   "execution_count": 92,
   "id": "46d11e09",
   "metadata": {},
   "outputs": [
    {
     "data": {
      "text/plain": [
       "('abcd', 7666, 2.3222, 'john', 70.2)"
      ]
     },
     "execution_count": 92,
     "metadata": {},
     "output_type": "execute_result"
    }
   ],
   "source": [
    "mytuple=(\"abcd\",7666,2.3222,'john',70.2)\n",
    "mytuple"
   ]
  },
  {
   "cell_type": "code",
   "execution_count": 93,
   "id": "63926c79",
   "metadata": {},
   "outputs": [
    {
     "data": {
      "text/plain": [
       "'abcd'"
      ]
     },
     "execution_count": 93,
     "metadata": {},
     "output_type": "execute_result"
    }
   ],
   "source": [
    "mytuple[0]"
   ]
  },
  {
   "cell_type": "code",
   "execution_count": 94,
   "id": "9936e257",
   "metadata": {},
   "outputs": [
    {
     "data": {
      "text/plain": [
       "'john'"
      ]
     },
     "execution_count": 94,
     "metadata": {},
     "output_type": "execute_result"
    }
   ],
   "source": [
    "mytuple[3]"
   ]
  },
  {
   "cell_type": "code",
   "execution_count": 96,
   "id": "8eb453e0",
   "metadata": {},
   "outputs": [
    {
     "data": {
      "text/plain": [
       "(2.3222, 'john')"
      ]
     },
     "execution_count": 96,
     "metadata": {},
     "output_type": "execute_result"
    }
   ],
   "source": [
    "mytuple[2:4]"
   ]
  },
  {
   "cell_type": "code",
   "execution_count": 97,
   "id": "44c38920",
   "metadata": {},
   "outputs": [
    {
     "data": {
      "text/plain": [
       "2.3222"
      ]
     },
     "execution_count": 97,
     "metadata": {},
     "output_type": "execute_result"
    }
   ],
   "source": [
    "mytuple[-3]"
   ]
  },
  {
   "cell_type": "code",
   "execution_count": 98,
   "id": "1982c3a0",
   "metadata": {},
   "outputs": [
    {
     "name": "stdout",
     "output_type": "stream",
     "text": [
      "abcd\n",
      "7666\n",
      "2.3222\n",
      "john\n",
      "70.2\n"
     ]
    }
   ],
   "source": [
    "for element in mytuple:\n",
    "    print(element)\n"
   ]
  },
  {
   "cell_type": "code",
   "execution_count": 99,
   "id": "e2beead4",
   "metadata": {},
   "outputs": [
    {
     "data": {
      "text/plain": [
       "'1'"
      ]
     },
     "execution_count": 99,
     "metadata": {},
     "output_type": "execute_result"
    }
   ],
   "source": [
    "a='19000'\n",
    "a[0]"
   ]
  },
  {
   "cell_type": "code",
   "execution_count": 100,
   "id": "c9b7c434",
   "metadata": {},
   "outputs": [
    {
     "data": {
      "text/plain": [
       "'0'"
      ]
     },
     "execution_count": 100,
     "metadata": {},
     "output_type": "execute_result"
    }
   ],
   "source": [
    "a[2]"
   ]
  },
  {
   "cell_type": "markdown",
   "id": "e423a2d4",
   "metadata": {},
   "source": [
    "# Dictionary"
   ]
  },
  {
   "cell_type": "code",
   "execution_count": 101,
   "id": "c2f3a4da",
   "metadata": {},
   "outputs": [
    {
     "data": {
      "text/plain": [
       "{'one': 'This is one', 2: 'This is two'}"
      ]
     },
     "execution_count": 101,
     "metadata": {},
     "output_type": "execute_result"
    }
   ],
   "source": [
    "dict1={}\n",
    "dict1['one']=\"This is one\"\n",
    "dict1[2]=\"This is two\"\n",
    "dict1"
   ]
  },
  {
   "cell_type": "code",
   "execution_count": 102,
   "id": "5c5d8e1f",
   "metadata": {},
   "outputs": [
    {
     "data": {
      "text/plain": [
       "dict_keys(['one', 2])"
      ]
     },
     "execution_count": 102,
     "metadata": {},
     "output_type": "execute_result"
    }
   ],
   "source": [
    "dict1.keys()"
   ]
  },
  {
   "cell_type": "code",
   "execution_count": 105,
   "id": "cdb9a95f",
   "metadata": {},
   "outputs": [
    {
     "data": {
      "text/plain": [
       "'This is one'"
      ]
     },
     "execution_count": 105,
     "metadata": {},
     "output_type": "execute_result"
    }
   ],
   "source": [
    "dict1['one']"
   ]
  },
  {
   "cell_type": "code",
   "execution_count": 112,
   "id": "d8b0db05",
   "metadata": {},
   "outputs": [],
   "source": [
    "dict2={'name':['john','bela'],\n",
    "      'age':22,\n",
    "      'dept':'finance'}"
   ]
  },
  {
   "cell_type": "code",
   "execution_count": 114,
   "id": "7ac8a2c7",
   "metadata": {},
   "outputs": [
    {
     "data": {
      "text/plain": [
       "['john', 'bela']"
      ]
     },
     "execution_count": 114,
     "metadata": {},
     "output_type": "execute_result"
    }
   ],
   "source": [
    "dict2['name']"
   ]
  },
  {
   "cell_type": "code",
   "execution_count": 115,
   "id": "f2e80e1e",
   "metadata": {},
   "outputs": [
    {
     "data": {
      "text/plain": [
       "22"
      ]
     },
     "execution_count": 115,
     "metadata": {},
     "output_type": "execute_result"
    }
   ],
   "source": [
    "dict2['age']"
   ]
  },
  {
   "cell_type": "code",
   "execution_count": 116,
   "id": "3c1109d5",
   "metadata": {},
   "outputs": [],
   "source": [
    "dict2['age']=40"
   ]
  },
  {
   "cell_type": "code",
   "execution_count": 117,
   "id": "2093a5cc",
   "metadata": {},
   "outputs": [
    {
     "data": {
      "text/plain": [
       "40"
      ]
     },
     "execution_count": 117,
     "metadata": {},
     "output_type": "execute_result"
    }
   ],
   "source": [
    "dict2['age']"
   ]
  },
  {
   "cell_type": "code",
   "execution_count": 121,
   "id": "6ccf8ea1",
   "metadata": {},
   "outputs": [
    {
     "name": "stdout",
     "output_type": "stream",
     "text": [
      "{1, 2, 3, 4, 5, 6, 7, 8, 9}\n"
     ]
    }
   ],
   "source": [
    "setA={1,2,2,2,2,8,7,3,5,4,5,6,7,9}\n",
    "print(setA)"
   ]
  },
  {
   "cell_type": "code",
   "execution_count": 126,
   "id": "55edabe2",
   "metadata": {},
   "outputs": [],
   "source": [
    "list2={10,20,30,40,30,70,50,80}"
   ]
  },
  {
   "cell_type": "code",
   "execution_count": 127,
   "id": "7b73574b",
   "metadata": {},
   "outputs": [],
   "source": [
    "list2_not_duplicate=set(list2)"
   ]
  },
  {
   "cell_type": "code",
   "execution_count": 128,
   "id": "02a774a7",
   "metadata": {},
   "outputs": [
    {
     "data": {
      "text/plain": [
       "{10, 20, 30, 40, 50, 70, 80}"
      ]
     },
     "execution_count": 128,
     "metadata": {},
     "output_type": "execute_result"
    }
   ],
   "source": [
    "list2_not_duplicate"
   ]
  },
  {
   "cell_type": "code",
   "execution_count": 131,
   "id": "34bc5aaf",
   "metadata": {},
   "outputs": [],
   "source": [
    "list3=list(list2_not_duplicate)"
   ]
  },
  {
   "cell_type": "code",
   "execution_count": 132,
   "id": "ad2f7ce4",
   "metadata": {},
   "outputs": [
    {
     "data": {
      "text/plain": [
       "[80, 50, 20, 70, 40, 10, 30]"
      ]
     },
     "execution_count": 132,
     "metadata": {},
     "output_type": "execute_result"
    }
   ],
   "source": [
    "list3"
   ]
  },
  {
   "cell_type": "code",
   "execution_count": 133,
   "id": "33a8a086",
   "metadata": {},
   "outputs": [],
   "source": [
    "setA={'a',4}"
   ]
  },
  {
   "cell_type": "code",
   "execution_count": 134,
   "id": "a952ab99",
   "metadata": {},
   "outputs": [
    {
     "data": {
      "text/plain": [
       "4097"
      ]
     },
     "execution_count": 134,
     "metadata": {},
     "output_type": "execute_result"
    }
   ],
   "source": [
    "angka1='10001'\n",
    "int(angka1,8)"
   ]
  },
  {
   "cell_type": "code",
   "execution_count": 135,
   "id": "157b74fd",
   "metadata": {},
   "outputs": [
    {
     "name": "stdout",
     "output_type": "stream",
     "text": [
      "2.9 <class 'float'>\n"
     ]
    }
   ],
   "source": [
    "x=2.9\n",
    "print(x,type(x))"
   ]
  },
  {
   "cell_type": "code",
   "execution_count": 136,
   "id": "8048be9b",
   "metadata": {},
   "outputs": [
    {
     "name": "stdout",
     "output_type": "stream",
     "text": [
      "2 <class 'int'>\n"
     ]
    }
   ],
   "source": [
    "#Float to integer\n",
    "y=int(x)\n",
    "print(y,type(y))"
   ]
  },
  {
   "cell_type": "code",
   "execution_count": 139,
   "id": "2551381e",
   "metadata": {},
   "outputs": [
    {
     "name": "stdout",
     "output_type": "stream",
     "text": [
      "True <class 'bool'>\n"
     ]
    }
   ],
   "source": [
    "#Float to Boolean\n",
    "x=1231\n",
    "y= bool(x)\n",
    "print(y,type(y))"
   ]
  },
  {
   "cell_type": "code",
   "execution_count": 140,
   "id": "a20e7943",
   "metadata": {},
   "outputs": [
    {
     "name": "stdout",
     "output_type": "stream",
     "text": [
      "1231 <class 'int'>\n"
     ]
    }
   ],
   "source": [
    "#String to Integer\n",
    "angka1='1231'\n",
    "y= int(angka1)\n",
    "print(y,type(y))"
   ]
  },
  {
   "cell_type": "code",
   "execution_count": 142,
   "id": "e5574c79",
   "metadata": {},
   "outputs": [
    {
     "name": "stdout",
     "output_type": "stream",
     "text": [
      "123.1 <class 'float'>\n"
     ]
    }
   ],
   "source": [
    "#String to Float\n",
    "angka1='123.1'\n",
    "y=float(angka1)\n",
    "print(y,type(y))"
   ]
  },
  {
   "cell_type": "code",
   "execution_count": 143,
   "id": "f6cd0dd5",
   "metadata": {},
   "outputs": [
    {
     "name": "stdout",
     "output_type": "stream",
     "text": [
      "True <class 'str'>\n"
     ]
    }
   ],
   "source": [
    "#Boolean to String\n",
    "boolean=True\n",
    "y=str(boolean1)\n",
    "print(y,type(y))"
   ]
  },
  {
   "cell_type": "markdown",
   "id": "0cea2369",
   "metadata": {},
   "source": [
    "# Non-Primitive type conversion\n"
   ]
  },
  {
   "cell_type": "markdown",
   "id": "ebcc170d",
   "metadata": {},
   "source": [
    "# List to Tuple"
   ]
  },
  {
   "cell_type": "code",
   "execution_count": 144,
   "id": "4dd2876a",
   "metadata": {},
   "outputs": [
    {
     "name": "stdout",
     "output_type": "stream",
     "text": [
      "['satu', 2, 'tiga', 4.4] <class 'list'>\n"
     ]
    }
   ],
   "source": [
    "list1=['satu',2,'tiga',4.4]\n",
    "print(list1,type(list1))"
   ]
  },
  {
   "cell_type": "code",
   "execution_count": 147,
   "id": "3c6a2d87",
   "metadata": {},
   "outputs": [
    {
     "name": "stdout",
     "output_type": "stream",
     "text": [
      "('satu', 2, 'tiga', 4.4) <class 'tuple'>\n"
     ]
    }
   ],
   "source": [
    "tuple_list1=tuple(list1)\n",
    "print(tuple_list1,type(tuple_list1))"
   ]
  },
  {
   "cell_type": "markdown",
   "id": "c431ad4c",
   "metadata": {},
   "source": [
    "# List to set"
   ]
  },
  {
   "cell_type": "code",
   "execution_count": 150,
   "id": "8694253e",
   "metadata": {},
   "outputs": [
    {
     "name": "stdout",
     "output_type": "stream",
     "text": [
      "[10, 20, 32, 14, 15, 15, 26, 28, 26, 31] <class 'list'>\n"
     ]
    }
   ],
   "source": [
    "list2=[10,20,32,14,15,15,26,28,26,31]\n",
    "print(list2,type(list2))"
   ]
  },
  {
   "cell_type": "code",
   "execution_count": 151,
   "id": "b1acf3a7",
   "metadata": {},
   "outputs": [
    {
     "name": "stdout",
     "output_type": "stream",
     "text": [
      "{32, 10, 14, 15, 20, 26, 28, 31} <class 'set'>\n"
     ]
    }
   ],
   "source": [
    "set_list2=set(list2)\n",
    "print(set_list2,type(set_list2))"
   ]
  },
  {
   "cell_type": "markdown",
   "id": "a4697b00",
   "metadata": {},
   "source": [
    "# Tuple to list"
   ]
  },
  {
   "cell_type": "code",
   "execution_count": 152,
   "id": "59ec19c2",
   "metadata": {},
   "outputs": [
    {
     "name": "stdout",
     "output_type": "stream",
     "text": [
      "(1, 'dua', 'tiga', 4, 5) <class 'tuple'>\n"
     ]
    }
   ],
   "source": [
    "tuple1=(1,'dua','tiga',4,5)\n",
    "print(tuple1,type(tuple1))"
   ]
  },
  {
   "cell_type": "code",
   "execution_count": 153,
   "id": "f4575a2a",
   "metadata": {},
   "outputs": [
    {
     "ename": "TypeError",
     "evalue": "'type' object does not support item assignment",
     "output_type": "error",
     "traceback": [
      "\u001b[1;31m---------------------------------------------------------------------------\u001b[0m",
      "\u001b[1;31mTypeError\u001b[0m                                 Traceback (most recent call last)",
      "\u001b[1;32m~\\AppData\\Local\\Temp/ipykernel_3292/1744559459.py\u001b[0m in \u001b[0;36m<module>\u001b[1;34m\u001b[0m\n\u001b[1;32m----> 1\u001b[1;33m \u001b[0mtuple\u001b[0m\u001b[1;33m[\u001b[0m\u001b[1;36m2\u001b[0m\u001b[1;33m]\u001b[0m\u001b[1;33m=\u001b[0m\u001b[1;36m23\u001b[0m\u001b[1;33m\u001b[0m\u001b[1;33m\u001b[0m\u001b[0m\n\u001b[0m",
      "\u001b[1;31mTypeError\u001b[0m: 'type' object does not support item assignment"
     ]
    }
   ],
   "source": [
    "tuple[2]=23"
   ]
  },
  {
   "cell_type": "code",
   "execution_count": 154,
   "id": "0fe3d118",
   "metadata": {},
   "outputs": [
    {
     "name": "stdout",
     "output_type": "stream",
     "text": [
      "[1, 'dua', 'tiga', 4, 5] <class 'list'>\n"
     ]
    }
   ],
   "source": [
    "list_tuple1=list(tuple1)\n",
    "print(list_tuple1,type(list_tuple1))"
   ]
  },
  {
   "cell_type": "code",
   "execution_count": 155,
   "id": "fece1f90",
   "metadata": {},
   "outputs": [],
   "source": [
    "list_tuple1[2]=23"
   ]
  },
  {
   "cell_type": "code",
   "execution_count": 156,
   "id": "b8a10864",
   "metadata": {},
   "outputs": [
    {
     "data": {
      "text/plain": [
       "[1, 'dua', 23, 4, 5]"
      ]
     },
     "execution_count": 156,
     "metadata": {},
     "output_type": "execute_result"
    }
   ],
   "source": [
    "list_tuple1"
   ]
  },
  {
   "cell_type": "markdown",
   "id": "fd81407d",
   "metadata": {},
   "source": [
    "# List To dictionary"
   ]
  },
  {
   "cell_type": "code",
   "execution_count": 157,
   "id": "ef333298",
   "metadata": {},
   "outputs": [
    {
     "name": "stdout",
     "output_type": "stream",
     "text": [
      "[['name', 'john'], ['age', 22], ['city', 'delhi']] <class 'list'>\n"
     ]
    }
   ],
   "source": [
    "x = [['name','john'],['age',22],['city','delhi']]\n",
    "print(x,type(x))"
   ]
  },
  {
   "cell_type": "code",
   "execution_count": 158,
   "id": "9f37780f",
   "metadata": {},
   "outputs": [
    {
     "name": "stdout",
     "output_type": "stream",
     "text": [
      "{'name': 'john', 'age': 22, 'city': 'delhi'} <class 'dict'>\n"
     ]
    }
   ],
   "source": [
    "y=dict(x)\n",
    "print(y,type(y))"
   ]
  },
  {
   "cell_type": "code",
   "execution_count": null,
   "id": "981843b0",
   "metadata": {},
   "outputs": [],
   "source": []
  }
 ],
 "metadata": {
  "kernelspec": {
   "display_name": "Python 3 (ipykernel)",
   "language": "python",
   "name": "python3"
  },
  "language_info": {
   "codemirror_mode": {
    "name": "ipython",
    "version": 3
   },
   "file_extension": ".py",
   "mimetype": "text/x-python",
   "name": "python",
   "nbconvert_exporter": "python",
   "pygments_lexer": "ipython3",
   "version": "3.9.7"
  }
 },
 "nbformat": 4,
 "nbformat_minor": 5
}
