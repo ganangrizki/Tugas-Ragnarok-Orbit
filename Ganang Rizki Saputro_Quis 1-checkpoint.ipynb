{
 "cells": [
  {
   "cell_type": "markdown",
   "id": "13133c08",
   "metadata": {},
   "source": [
    "# Python oop"
   ]
  },
  {
   "cell_type": "markdown",
   "id": "f9be2b11",
   "metadata": {},
   "source": [
    "# 1. Apa itu oop dan cobalah buat implementantasi konsep oop menggunakan python!\n",
    "oop adalah konsep objek yang berisi data, dalam bentuk field atau dikenal atribut serta kode dalam prosedur sebagai method."
   ]
  },
  {
   "cell_type": "markdown",
   "id": "8d7a7476",
   "metadata": {},
   "source": [
    "# **konsep encapsulation**"
   ]
  },
  {
   "cell_type": "code",
   "execution_count": 1,
   "id": "054b9990",
   "metadata": {},
   "outputs": [
    {
     "name": "stdout",
     "output_type": "stream",
     "text": [
      "merk: LG, warna: hitam, barang:Televisi, dayalistrik : 50-100watt\n",
      "Televisi 30in...\n"
     ]
    }
   ],
   "source": [
    "merk= \"LG\"\n",
    "warna= \"hitam\"\n",
    "barang = \"Televisi\"\n",
    "dayalistrik = \" 50-100watt\"\n",
    "\n",
    "def tv():\n",
    "    print(\"Televisi 30in...\")\n",
    "    \n",
    "def info_tv(merk,warna,barang,dayalistrik):\n",
    "    print(f\"merk: {merk}, warna: {warna}, barang:{barang}, dayalistrik :{dayalistrik}\") \n",
    "\n",
    "info_tv(merk,warna,barang,dayalistrik)\n",
    "tv()\n"
   ]
  },
  {
   "cell_type": "code",
   "execution_count": 2,
   "id": "d0c2c94c",
   "metadata": {},
   "outputs": [
    {
     "name": "stdout",
     "output_type": "stream",
     "text": [
      "merk: LG, warna: hitam, barang:Televisi, dayalistrik : 50-100watt\n",
      "Barang Televisi 30 in\n"
     ]
    }
   ],
   "source": [
    "class Elektronik(object):\n",
    "    \n",
    "    nama_elektronik = \"\"\n",
    "    def __init__(tv, input_merk, input_warna, input_barang, input_dayalistrik):\n",
    "        tv.merk = input_merk\n",
    "        tv.warna = input_warna\n",
    "        tv.barang = input_barang\n",
    "        tv.dayalistrik = input_dayalistrik\n",
    "        Elektronik.nama_elektronik = input_merk\n",
    "\n",
    "    def tv(tv):\n",
    "        print(\"Barang\", tv.merk)\n",
    "\n",
    "    def info(tv):\n",
    "        print(f\"merk: {merk}, warna: {warna}, barang:{barang}, dayalistrik :{dayalistrik}\")\n",
    "\n",
    "\n",
    "elektronik1 = Elektronik(\"Televisi 30 in\", \"LG\", \"Hitam\", \"50-100watt\")\n",
    "\n",
    "elektronik1.info()\n",
    "elektronik1.tv()"
   ]
  },
  {
   "cell_type": "markdown",
   "id": "c0014776",
   "metadata": {},
   "source": [
    "# **Konsep abstaction** "
   ]
  },
  {
   "cell_type": "code",
   "execution_count": 3,
   "id": "8817cb56",
   "metadata": {},
   "outputs": [],
   "source": [
    "from abc import abstractmethod, ABC\n"
   ]
  },
  {
   "cell_type": "code",
   "execution_count": 4,
   "id": "b8421159",
   "metadata": {},
   "outputs": [],
   "source": [
    "class Hewan(ABC):\n",
    "    \n",
    "    @abstractmethod\n",
    "    def caramemakan(self):\n",
    "        pass\n",
    "    \n",
    "class Harimau(Hewan):\n",
    "    def caramemakan(self):\n",
    "        print(\"Menjatuhkan ke tanah dan mematahkan atau menggigit lehernya hingga mati.\\n\")\n",
    "        \n",
    "class Buaya(Hewan):\n",
    "    def caramemakan(self):\n",
    "        print(\"cara makanya dengan menerkam sekaligus menggigit mangsanya kemudian menarik dengan kuat dan tiba-tiba ke air.\")"
   ]
  },
  {
   "cell_type": "code",
   "execution_count": 5,
   "id": "d4db0b44",
   "metadata": {},
   "outputs": [
    {
     "name": "stdout",
     "output_type": "stream",
     "text": [
      "Menjatuhkan ke tanah dan mematahkan atau menggigit lehernya hingga mati.\n",
      "\n",
      "cara makanya dengan menerkam sekaligus menggigit mangsanya kemudian menarik dengan kuat dan tiba-tiba ke air.\n"
     ]
    }
   ],
   "source": [
    "harimau1=Harimau()\n",
    "buaya1=Buaya()\n",
    "\n",
    "harimau1.caramemakan()\n",
    "buaya1.caramemakan()"
   ]
  },
  {
   "cell_type": "markdown",
   "id": "d89688c0",
   "metadata": {},
   "source": [
    "# 2. Sebutkan dan jelaskan 2 jenis implementasi konsep oop menggunakan python\n",
    " Python custome modules\n",
    "Python module merupakan file dengan ekstensi .py yang berisi kode python yang dapat diimpor ke dalam program python lain.\n",
    "seperti built-in module  library module\n"
   ]
  },
  {
   "cell_type": "code",
   "execution_count": 24,
   "id": "97c79f6d",
   "metadata": {},
   "outputs": [
    {
     "data": {
      "text/plain": [
       "19.18866645035407"
      ]
     },
     "execution_count": 24,
     "metadata": {},
     "output_type": "execute_result"
    }
   ],
   "source": [
    "#3. Hitunglah berapa hasil dari √175 + 4√7 +(1/3) + 3log 81 menggunakan module python!\n",
    "import math\n",
    "math.sqrt(175)+7**(1/4)+(1/3)+math.log(81,3)"
   ]
  },
  {
   "cell_type": "code",
   "execution_count": 29,
   "id": "7975804b",
   "metadata": {},
   "outputs": [
    {
     "name": "stdout",
     "output_type": "stream",
     "text": [
      "0.625\n",
      "0.625\n"
     ]
    }
   ],
   "source": [
    "# 4 Apa itu custome handling dan berikan 1 contoh implementasi.\n",
    "A = 5\n",
    "C = 8\n",
    "\n",
    "try:\n",
    "    Hasil = A/C\n",
    "    print(Hasil)\n",
    "except:\n",
    "    print(\"b\")\n",
    "\n",
    "y = 3 + A\n",
    "print(A/C)"
   ]
  },
  {
   "cell_type": "markdown",
   "id": "1afad106",
   "metadata": {},
   "source": [
    "# Artificial intelligence"
   ]
  },
  {
   "cell_type": "markdown",
   "id": "811f3c20",
   "metadata": {},
   "source": [
    "# 1 apa perbedaan dari sructured dan unstructured data dan sebutkan 3 sumber data.\n",
    "# >Data terstruktur yaitu data dalam baris dan kolom dan database relational.\n",
    "Contoh data terskruktur: file excel,data sensor,data penjualan,\n",
    "\n",
    "\n",
    "# >Data tidak terstruktur tidak dapat ditampilkan dalam baris dan kolom.\n",
    "contoh data tidak terstruktur:data teks, berformat foto atau gambar, video, atau suara. "
   ]
  },
  {
   "cell_type": "markdown",
   "id": "dc73b43b",
   "metadata": {},
   "source": [
    "# 2 jelaskan perbedaan AI,machine learning dan deep learning!\n",
    "\n",
    "# > Artificial Intelligence atau kecerdasan buatan adalah sistem komputer yang mampu melakukan tugas-tugas yang biasanya membutuhkan kecerdasan manusia. \n",
    "# >machine learning (ML) adalah mesin yang dikembangkan untuk bisa belajar dengan sendirinya tanpa arahan dari penggunanya. \n",
    "# >Deep Learning adalah bagian dari kecerdasan buatan dan machine learning , yang merupakan pengembangan dari neural network multiple layer untuk memberikan ketepatan tugas seperti deteksi objek, pengenalan suara, terjemahan bahasa dan lain – lain."
   ]
  },
  {
   "cell_type": "markdown",
   "id": "4b9b5a56",
   "metadata": {},
   "source": [
    "# 3 apa perbedaan machine learning dengan traditional software\n",
    "## >Traditional data merupakan yang menerima input berupa data dan aturan dan nati akan menghasilkan jawaban.\n",
    "# >Sedangkan machine learning menerima data lalu menerima jawaban lalu rule."
   ]
  },
  {
   "cell_type": "markdown",
   "id": "0dbb0f03",
   "metadata": {},
   "source": [
    "# 4 sebutkan 3 contoh aplikasi machine learning  disektor smartcity dan agriculture!\n",
    "#  plant classification with KNN, stock prediction,Image recognition\n"
   ]
  },
  {
   "cell_type": "markdown",
   "id": "8b39fdbe",
   "metadata": {},
   "source": [
    "# Maths for AI"
   ]
  },
  {
   "cell_type": "markdown",
   "id": "59e72c4f",
   "metadata": {},
   "source": [
    "# 1. Mengapa ilmu matematika penting ketika mempelajari AI?\n",
    "# Karena di ilmu mempelajari AI membutuhkan algoritma yang berupa angka,  struktur seperti ( *,/,+,-) sehinga konsep itu ilmu matematika penting. juga dimatematika mempelajari regresi linear untuk menghitung angka.\n",
    "\n"
   ]
  },
  {
   "cell_type": "markdown",
   "id": "3bbb9628",
   "metadata": {},
   "source": [
    "# 2. Jelaskan perbedaan vektor dan skalar!\n",
    "# ****>Vektor merupakan besaran yang memiliki nilai dan arah.****\n",
    "# ****>Skalar tidak memiliki arah.****"
   ]
  },
  {
   "cell_type": "markdown",
   "id": "bfe15a5b",
   "metadata": {},
   "source": [
    "# 3. Apa perbedaan dari jarak Ecludean dan Manhattan?\n",
    "# > Jaral ecludean yaitu digunakan untuk mengukur jarak antara encludean atau dua buah titik.\n",
    "# >manhattan yaitu mengukur kesamaan kedua vektor."
   ]
  },
  {
   "cell_type": "markdown",
   "id": "4375ced7",
   "metadata": {},
   "source": [
    "# 4. Apa kegunaan matrik dalam ilmu matematika ketika menerapkan AI?\n",
    "Matrik digunakan untuk membuat suatu ukuran gambar seperti membuat gambar/pixel yang dipakai dalam computer vision untuk ouput gambar."
   ]
  },
  {
   "cell_type": "markdown",
   "id": "707472e1",
   "metadata": {},
   "source": [
    "# machine learning"
   ]
  },
  {
   "cell_type": "markdown",
   "id": "cf83809f",
   "metadata": {},
   "source": [
    "# 1. Jelaskan perbedaan supervised dan unsupervised learning dan sebutkan 2 contohnya!\n",
    "supervised learning yaitu proses pengelompokan data yang telah memiliki label dan akan dikelompokan berdasarkan labelnya.contoh hitung suhu,ukur berat badan. sedangkan unsupervised learning yaitu proses pengelompokan data yang tidak mempunyai label. contoh menghitung jumlah sekolah dasar dan menghitung jumlah sawah didaerah perdesaan."
   ]
  },
  {
   "cell_type": "markdown",
   "id": "d3d9213f",
   "metadata": {},
   "source": [
    "# 2. sebutkan setiap tahap yang ada di machine learning life cycle dan jelaskan!\n",
    "Analisis Perencanaan dan Kebutuhan (Planning and Requirement Analysis),Menentukan Persyaratan (Defining Requirements),Merancang Arsitektur Produk (Designing Product Architecture),Membangun atau Mengembangkan Produk (Building or Developing Product),Menguji Produk (Testing the Product), Penempatan di Pasar dan Pemeliharaan (Deployment in the Market and Maintenance)."
   ]
  },
  {
   "cell_type": "markdown",
   "id": "d7fbef96",
   "metadata": {},
   "source": [
    "# 3. Apa perbedaan regression dengan clustering?\n",
    "kalau regression yaitu teknik analisis untuk mengidentifikasi relasi atau hubungan diantara dua variabel atau lebih. sedangkan clustering yaitu  kumpulan data atau objek yang memiliki kemiripan satu sama lain di dalam kumpulan atau kelompok tersebut, dan berbeda dengan objek di kelompok lain.\n"
   ]
  },
  {
   "cell_type": "markdown",
   "id": "2aa6be52",
   "metadata": {},
   "source": [
    "# 4. apa itu algoritma artificial neural network dan fungsinya?\n",
    "ANN YAITU  merupakan set algoritma yang berkerja seperti jaringan saraf otak manusia, dimana neuron saling terhubung satu dengan lainya, bekerja untuk memproses informasi. Fungsinya menjadikan komputer memiliki kemampuan cognitif seperti otak manusia."
   ]
  },
  {
   "cell_type": "markdown",
   "id": "b0dac677",
   "metadata": {},
   "source": [
    "# Deadline hari ini sampai jam 12 malam"
   ]
  }
 ],
 "metadata": {
  "kernelspec": {
   "display_name": "Python 3 (ipykernel)",
   "language": "python",
   "name": "python3"
  },
  "language_info": {
   "codemirror_mode": {
    "name": "ipython",
    "version": 3
   },
   "file_extension": ".py",
   "mimetype": "text/x-python",
   "name": "python",
   "nbconvert_exporter": "python",
   "pygments_lexer": "ipython3",
   "version": "3.9.7"
  }
 },
 "nbformat": 4,
 "nbformat_minor": 5
}
